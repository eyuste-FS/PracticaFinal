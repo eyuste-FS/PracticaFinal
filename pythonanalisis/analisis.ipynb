{
 "cells": [
  {
   "cell_type": "markdown",
   "metadata": {},
   "source": [
    "# Análisis estadístico"
   ]
  },
  {
   "cell_type": "markdown",
   "metadata": {},
   "source": [
    "## Obtención de base de datos"
   ]
  },
  {
   "cell_type": "code",
   "execution_count": 1422,
   "metadata": {},
   "outputs": [],
   "source": [
    "import mysql.connector as connection\n",
    "import pandas as pd\n",
    "import matplotlib.pyplot as plt\n",
    "from datetime import datetime"
   ]
  },
  {
   "cell_type": "code",
   "execution_count": 1423,
   "metadata": {},
   "outputs": [],
   "source": [
    "def queryDF(q) -> pd.DataFrame:\n",
    "    try:\n",
    "        mydb = connection.connect(host=\"localhost\", database = 'practica',user=\"root\", passwd=\"root\", use_pure=True)\n",
    "        result_dataFrame = pd.read_sql(q, mydb)\n",
    "    except Exception as e:\n",
    "        print('Excepcion', str(e))\n",
    "        result_dataFrame = None\n",
    "    finally:\n",
    "        mydb.close()\n",
    "    return result_dataFrame"
   ]
  },
  {
   "cell_type": "code",
   "execution_count": 1424,
   "metadata": {},
   "outputs": [
    {
     "name": "stderr",
     "output_type": "stream",
     "text": [
      "C:\\Users\\eyuste\\AppData\\Local\\Temp\\ipykernel_6180\\2671971924.py:4: UserWarning: pandas only supports SQLAlchemy connectable (engine/connection) or database string URI or sqlite3 DBAPI2 connection. Other DBAPI2 objects are not tested. Please consider using SQLAlchemy.\n",
      "  result_dataFrame = pd.read_sql(q, mydb)\n"
     ]
    }
   ],
   "source": [
    "empleados = queryDF('select * from em_empleados')\n",
    "proyectos = queryDF('select * from pr_proyectos')\n",
    "asignaciones = queryDF('select * from pr_empleados_proyecto')"
   ]
  },
  {
   "cell_type": "code",
   "execution_count": 1425,
   "metadata": {},
   "outputs": [
    {
     "data": {
      "text/html": [
       "<div>\n",
       "<style scoped>\n",
       "    .dataframe tbody tr th:only-of-type {\n",
       "        vertical-align: middle;\n",
       "    }\n",
       "\n",
       "    .dataframe tbody tr th {\n",
       "        vertical-align: top;\n",
       "    }\n",
       "\n",
       "    .dataframe thead th {\n",
       "        text-align: right;\n",
       "    }\n",
       "</style>\n",
       "<table border=\"1\" class=\"dataframe\">\n",
       "  <thead>\n",
       "    <tr style=\"text-align: right;\">\n",
       "      <th></th>\n",
       "      <th>B_SERVMILITAR</th>\n",
       "      <th>CX_EDOCIVIL</th>\n",
       "      <th>F_ALTA</th>\n",
       "      <th>F_BAJA</th>\n",
       "      <th>F_NACIMIENTO</th>\n",
       "      <th>ID_EMPLEADO</th>\n",
       "      <th>N_TELEFONO1</th>\n",
       "      <th>N_TELEFONO2</th>\n",
       "      <th>TX_APELLIDO1</th>\n",
       "      <th>TX_APELLIDO2</th>\n",
       "      <th>TX_EMAIL</th>\n",
       "      <th>TX_NIF</th>\n",
       "      <th>TX_NOMBRE</th>\n",
       "    </tr>\n",
       "  </thead>\n",
       "  <tbody>\n",
       "    <tr>\n",
       "      <th>0</th>\n",
       "      <td>S</td>\n",
       "      <td>S</td>\n",
       "      <td>1976-10-13</td>\n",
       "      <td>2023-08-22</td>\n",
       "      <td>1986-02-18</td>\n",
       "      <td>1</td>\n",
       "      <td>692689213</td>\n",
       "      <td>113061401</td>\n",
       "      <td>White</td>\n",
       "      <td>Phillips</td>\n",
       "      <td>alfred.white@gmail.com</td>\n",
       "      <td>88953399G</td>\n",
       "      <td>Alfred</td>\n",
       "    </tr>\n",
       "    <tr>\n",
       "      <th>1</th>\n",
       "      <td>N</td>\n",
       "      <td>S</td>\n",
       "      <td>1993-07-18</td>\n",
       "      <td>None</td>\n",
       "      <td>1993-03-25</td>\n",
       "      <td>2</td>\n",
       "      <td>737703731</td>\n",
       "      <td>888164547</td>\n",
       "      <td>Hamilton</td>\n",
       "      <td>Welch</td>\n",
       "      <td>leila.hamilton@gmail.com</td>\n",
       "      <td>42401933C</td>\n",
       "      <td>Leila</td>\n",
       "    </tr>\n",
       "    <tr>\n",
       "      <th>2</th>\n",
       "      <td>N</td>\n",
       "      <td>S</td>\n",
       "      <td>1996-08-18</td>\n",
       "      <td>None</td>\n",
       "      <td>1978-10-23</td>\n",
       "      <td>3</td>\n",
       "      <td>296471891</td>\n",
       "      <td>287356859</td>\n",
       "      <td>Fletcher</td>\n",
       "      <td>Wilson</td>\n",
       "      <td>bertie.fletcher@gmail.com</td>\n",
       "      <td>52971090P</td>\n",
       "      <td>Bertie</td>\n",
       "    </tr>\n",
       "    <tr>\n",
       "      <th>3</th>\n",
       "      <td>N</td>\n",
       "      <td>S</td>\n",
       "      <td>1981-01-09</td>\n",
       "      <td>1982-10-06</td>\n",
       "      <td>1991-10-17</td>\n",
       "      <td>4</td>\n",
       "      <td>730624863</td>\n",
       "      <td>107483452</td>\n",
       "      <td>Adkins</td>\n",
       "      <td>Butler</td>\n",
       "      <td>barry.adkins@gmail.com</td>\n",
       "      <td>41056311G</td>\n",
       "      <td>Barry</td>\n",
       "    </tr>\n",
       "    <tr>\n",
       "      <th>4</th>\n",
       "      <td>S</td>\n",
       "      <td>C</td>\n",
       "      <td>2001-12-20</td>\n",
       "      <td>2018-03-17</td>\n",
       "      <td>1979-06-16</td>\n",
       "      <td>5</td>\n",
       "      <td>129462402</td>\n",
       "      <td>815307334</td>\n",
       "      <td>Morgan</td>\n",
       "      <td>Bates</td>\n",
       "      <td>emma.morgan@gmail.com</td>\n",
       "      <td>70090020R</td>\n",
       "      <td>Emma</td>\n",
       "    </tr>\n",
       "  </tbody>\n",
       "</table>\n",
       "</div>"
      ],
      "text/plain": [
       "  B_SERVMILITAR CX_EDOCIVIL      F_ALTA      F_BAJA F_NACIMIENTO  ID_EMPLEADO  \\\n",
       "0             S           S  1976-10-13  2023-08-22   1986-02-18            1   \n",
       "1             N           S  1993-07-18        None   1993-03-25            2   \n",
       "2             N           S  1996-08-18        None   1978-10-23            3   \n",
       "3             N           S  1981-01-09  1982-10-06   1991-10-17            4   \n",
       "4             S           C  2001-12-20  2018-03-17   1979-06-16            5   \n",
       "\n",
       "  N_TELEFONO1 N_TELEFONO2 TX_APELLIDO1 TX_APELLIDO2  \\\n",
       "0   692689213   113061401        White     Phillips   \n",
       "1   737703731   888164547     Hamilton        Welch   \n",
       "2   296471891   287356859     Fletcher       Wilson   \n",
       "3   730624863   107483452       Adkins       Butler   \n",
       "4   129462402   815307334       Morgan        Bates   \n",
       "\n",
       "                    TX_EMAIL     TX_NIF TX_NOMBRE  \n",
       "0     alfred.white@gmail.com  88953399G    Alfred  \n",
       "1   leila.hamilton@gmail.com  42401933C     Leila  \n",
       "2  bertie.fletcher@gmail.com  52971090P    Bertie  \n",
       "3     barry.adkins@gmail.com  41056311G     Barry  \n",
       "4      emma.morgan@gmail.com  70090020R      Emma  "
      ]
     },
     "execution_count": 1425,
     "metadata": {},
     "output_type": "execute_result"
    }
   ],
   "source": [
    "empleados.head()"
   ]
  },
  {
   "cell_type": "markdown",
   "metadata": {},
   "source": [
    "## Estadísticas"
   ]
  },
  {
   "cell_type": "markdown",
   "metadata": {},
   "source": [
    "#### Empleados\n",
    "- Top 5 empleados que más años llevan en la compañía\n",
    "- Top 5 empleados más recientes\n",
    "- Distribución del número de años de los empleados en la empresa\n",
    "- Evolución temporal de altas por años\n",
    "- Evolución temporal de bajas por años (se puede combinar con la anterior si se desea)\n",
    "- ¿Cuáles han sido los dos años de mayor crecimiento/decrecimiento de empleados?\n",
    "- Distribución de empleados solteros vs casados\n",
    "- Distribución de la edad de los empleados\n",
    "- Edad media y desviación típica de los empleados\n",
    "\n",
    "#### Proyectos\n",
    "- Número de proyectos activos, finalizados y total\n",
    "- Distribución de la duración de los proyectos (histograma)\n",
    "- Distribución de proyectos por lugar\n",
    "\n",
    "#### Proyectos y Empleados\n",
    "- Distribución del número de proyectos a los que están asignados los empleados en activo. \n",
    "- Ejemplo: \n",
    "\t- Personas asignadas a 1 proyecto: 54, \n",
    "\t- Personas asignadas a 2 proyectos: 12,\n",
    "\t- Personas asignadas a 3 proyectos: 2\n",
    "- Top 5 proyectos con más personas asignadas\n",
    "- Lista de proyectos sin personas asignadas (detección de anomalía)  \n"
   ]
  },
  {
   "cell_type": "markdown",
   "metadata": {},
   "source": [
    "### Empleados"
   ]
  },
  {
   "cell_type": "markdown",
   "metadata": {},
   "source": [
    "#### Top 5 empleados que más años llevan en la compañía"
   ]
  },
  {
   "cell_type": "code",
   "execution_count": 1426,
   "metadata": {},
   "outputs": [
    {
     "data": {
      "text/html": [
       "<div>\n",
       "<style scoped>\n",
       "    .dataframe tbody tr th:only-of-type {\n",
       "        vertical-align: middle;\n",
       "    }\n",
       "\n",
       "    .dataframe tbody tr th {\n",
       "        vertical-align: top;\n",
       "    }\n",
       "\n",
       "    .dataframe thead th {\n",
       "        text-align: right;\n",
       "    }\n",
       "</style>\n",
       "<table border=\"1\" class=\"dataframe\">\n",
       "  <thead>\n",
       "    <tr style=\"text-align: right;\">\n",
       "      <th></th>\n",
       "      <th>TX_NIF</th>\n",
       "      <th>TX_NOMBRE</th>\n",
       "      <th>TX_APELLIDO1</th>\n",
       "      <th>TX_APELLIDO2</th>\n",
       "      <th>TX_EMAIL</th>\n",
       "      <th>F_ALTA</th>\n",
       "    </tr>\n",
       "  </thead>\n",
       "  <tbody>\n",
       "    <tr>\n",
       "      <th>95</th>\n",
       "      <td>14153748T</td>\n",
       "      <td>Jonathan</td>\n",
       "      <td>Higgins</td>\n",
       "      <td>Burgess</td>\n",
       "      <td>jonathan.higgins@gmail.com</td>\n",
       "      <td>1946-03-03</td>\n",
       "    </tr>\n",
       "    <tr>\n",
       "      <th>86</th>\n",
       "      <td>18178099P</td>\n",
       "      <td>Franklin</td>\n",
       "      <td>Daniel</td>\n",
       "      <td>Townsend</td>\n",
       "      <td>franklin.daniel@gmail.com</td>\n",
       "      <td>1946-10-05</td>\n",
       "    </tr>\n",
       "    <tr>\n",
       "      <th>61</th>\n",
       "      <td>26754843V</td>\n",
       "      <td>Hattie</td>\n",
       "      <td>Hopkins</td>\n",
       "      <td>McBride</td>\n",
       "      <td>hattie.hopkins@gmail.com</td>\n",
       "      <td>1952-01-14</td>\n",
       "    </tr>\n",
       "    <tr>\n",
       "      <th>72</th>\n",
       "      <td>65770597D</td>\n",
       "      <td>Cecilia</td>\n",
       "      <td>Boyd</td>\n",
       "      <td>Wells</td>\n",
       "      <td>cecilia.boyd@gmail.com</td>\n",
       "      <td>1953-06-13</td>\n",
       "    </tr>\n",
       "    <tr>\n",
       "      <th>30</th>\n",
       "      <td>47986253B</td>\n",
       "      <td>Jeffrey</td>\n",
       "      <td>Soto</td>\n",
       "      <td>Perry</td>\n",
       "      <td>jeffrey.soto@gmail.com</td>\n",
       "      <td>1954-02-14</td>\n",
       "    </tr>\n",
       "  </tbody>\n",
       "</table>\n",
       "</div>"
      ],
      "text/plain": [
       "       TX_NIF TX_NOMBRE TX_APELLIDO1 TX_APELLIDO2                    TX_EMAIL  \\\n",
       "95  14153748T  Jonathan      Higgins      Burgess  jonathan.higgins@gmail.com   \n",
       "86  18178099P  Franklin       Daniel     Townsend   franklin.daniel@gmail.com   \n",
       "61  26754843V    Hattie      Hopkins      McBride    hattie.hopkins@gmail.com   \n",
       "72  65770597D   Cecilia         Boyd        Wells      cecilia.boyd@gmail.com   \n",
       "30  47986253B   Jeffrey         Soto        Perry      jeffrey.soto@gmail.com   \n",
       "\n",
       "        F_ALTA  \n",
       "95  1946-03-03  \n",
       "86  1946-10-05  \n",
       "61  1952-01-14  \n",
       "72  1953-06-13  \n",
       "30  1954-02-14  "
      ]
     },
     "execution_count": 1426,
     "metadata": {},
     "output_type": "execute_result"
    }
   ],
   "source": [
    "# No dados de baja\n",
    "disponibles = empleados.loc[empleados['F_BAJA'].isna()].copy()\n",
    "# Ordenar por antiguedad\n",
    "ordenados = disponibles.sort_values(['F_ALTA'])[\n",
    "    ['TX_NIF', 'TX_NOMBRE', 'TX_APELLIDO1', 'TX_APELLIDO2', 'TX_EMAIL', 'F_ALTA']]\n",
    "# Limitar a los 5\n",
    "top5MasAnyos = ordenados.head(5)\n",
    "top5MasAnyos"
   ]
  },
  {
   "cell_type": "markdown",
   "metadata": {},
   "source": [
    "#### Top 5 empleados más recientes"
   ]
  },
  {
   "cell_type": "code",
   "execution_count": 1427,
   "metadata": {},
   "outputs": [
    {
     "data": {
      "text/html": [
       "<div>\n",
       "<style scoped>\n",
       "    .dataframe tbody tr th:only-of-type {\n",
       "        vertical-align: middle;\n",
       "    }\n",
       "\n",
       "    .dataframe tbody tr th {\n",
       "        vertical-align: top;\n",
       "    }\n",
       "\n",
       "    .dataframe thead th {\n",
       "        text-align: right;\n",
       "    }\n",
       "</style>\n",
       "<table border=\"1\" class=\"dataframe\">\n",
       "  <thead>\n",
       "    <tr style=\"text-align: right;\">\n",
       "      <th></th>\n",
       "      <th>TX_NIF</th>\n",
       "      <th>TX_NOMBRE</th>\n",
       "      <th>TX_APELLIDO1</th>\n",
       "      <th>TX_APELLIDO2</th>\n",
       "      <th>TX_EMAIL</th>\n",
       "      <th>F_ALTA</th>\n",
       "    </tr>\n",
       "  </thead>\n",
       "  <tbody>\n",
       "    <tr>\n",
       "      <th>46</th>\n",
       "      <td>87541974K</td>\n",
       "      <td>Devin</td>\n",
       "      <td>Bailey</td>\n",
       "      <td>Hunt</td>\n",
       "      <td>devin.bailey@gmail.com</td>\n",
       "      <td>2014-08-09</td>\n",
       "    </tr>\n",
       "    <tr>\n",
       "      <th>40</th>\n",
       "      <td>13761491E</td>\n",
       "      <td>Isabelle</td>\n",
       "      <td>Lloyd</td>\n",
       "      <td>Jones</td>\n",
       "      <td>isabelle.lloyd@gmail.com</td>\n",
       "      <td>2014-07-20</td>\n",
       "    </tr>\n",
       "    <tr>\n",
       "      <th>70</th>\n",
       "      <td>83007275T</td>\n",
       "      <td>Isabelle</td>\n",
       "      <td>Allen</td>\n",
       "      <td>Cruz</td>\n",
       "      <td>isabelle.allen@gmail.com</td>\n",
       "      <td>2013-07-22</td>\n",
       "    </tr>\n",
       "    <tr>\n",
       "      <th>65</th>\n",
       "      <td>45848829G</td>\n",
       "      <td>Amanda</td>\n",
       "      <td>Hardy</td>\n",
       "      <td>Scott</td>\n",
       "      <td>amanda.hardy@gmail.com</td>\n",
       "      <td>2011-02-02</td>\n",
       "    </tr>\n",
       "    <tr>\n",
       "      <th>13</th>\n",
       "      <td>66005749T</td>\n",
       "      <td>Mary</td>\n",
       "      <td>McCarthy</td>\n",
       "      <td>Stevens</td>\n",
       "      <td>mary.mccarthy@gmail.com</td>\n",
       "      <td>2009-06-24</td>\n",
       "    </tr>\n",
       "  </tbody>\n",
       "</table>\n",
       "</div>"
      ],
      "text/plain": [
       "       TX_NIF TX_NOMBRE TX_APELLIDO1 TX_APELLIDO2                  TX_EMAIL  \\\n",
       "46  87541974K     Devin       Bailey         Hunt    devin.bailey@gmail.com   \n",
       "40  13761491E  Isabelle        Lloyd        Jones  isabelle.lloyd@gmail.com   \n",
       "70  83007275T  Isabelle        Allen         Cruz  isabelle.allen@gmail.com   \n",
       "65  45848829G    Amanda        Hardy        Scott    amanda.hardy@gmail.com   \n",
       "13  66005749T      Mary     McCarthy      Stevens   mary.mccarthy@gmail.com   \n",
       "\n",
       "        F_ALTA  \n",
       "46  2014-08-09  \n",
       "40  2014-07-20  \n",
       "70  2013-07-22  \n",
       "65  2011-02-02  \n",
       "13  2009-06-24  "
      ]
     },
     "execution_count": 1427,
     "metadata": {},
     "output_type": "execute_result"
    }
   ],
   "source": [
    "# No dados de baja\n",
    "disponibles = empleados.loc[empleados['F_BAJA'].isna()].copy()\n",
    "# Ordenar por antiguedad\n",
    "ordenados = disponibles.sort_values(['F_ALTA'], ascending=False)[\n",
    "    ['TX_NIF', 'TX_NOMBRE', 'TX_APELLIDO1', 'TX_APELLIDO2', 'TX_EMAIL', 'F_ALTA']]\n",
    "# Limitar a los 5\n",
    "top5MasRecientes = ordenados.head(5)\n",
    "top5MasRecientes"
   ]
  },
  {
   "cell_type": "markdown",
   "metadata": {},
   "source": [
    "#### Distribución del número de años de los empleados en la empresa"
   ]
  },
  {
   "cell_type": "code",
   "execution_count": 1428,
   "metadata": {},
   "outputs": [
    {
     "data": {
      "image/png": "[encoded data removed]",
      "text/plain": [
       "<Figure size 640x480 with 1 Axes>"
      ]
     },
     "metadata": {},
     "output_type": "display_data"
    }
   ],
   "source": [
    "# No dados de baja\n",
    "disponibles = empleados.loc[empleados['F_BAJA'].isna()].copy()\n",
    "# Numero de años\n",
    "anyosAlta = disponibles['F_ALTA'].astype('str').str.split('-').str[0].astype('int')\n",
    "nAnyos = 2023 - anyosAlta\n",
    "\n",
    "nAnyos.plot.hist(bins=nAnyos.max() - nAnyos.min() + 1)\n",
    "plt.show()"
   ]
  },
  {
   "cell_type": "markdown",
   "metadata": {},
   "source": [
    "#### Evolución temporal de altas por años y Evolución temporal de bajas por años"
   ]
  },
  {
   "cell_type": "code",
   "execution_count": 1429,
   "metadata": {},
   "outputs": [
    {
     "data": {
      "image/png": "[encoded data removed]",
      "text/plain": [
       "<Figure size 640x480 with 1 Axes>"
      ]
     },
     "metadata": {},
     "output_type": "display_data"
    }
   ],
   "source": [
    "# Dados de baja\n",
    "deBaja = empleados.loc[empleados['F_BAJA'].notna()].copy()\n",
    "anyosBaja = deBaja['F_BAJA'].astype('str').str.split('-').str[0].astype('int')\n",
    "\n",
    "anyosAlta.plot.hist(bins=anyosAlta.max() - anyosAlta.min() + 1, label='Altas')\n",
    "anyosBaja.plot.hist(bins=anyosBaja.max() - anyosBaja.min() + 1, label='Bajas')\n",
    "plt.legend()\n",
    "plt.show()"
   ]
  },
  {
   "cell_type": "markdown",
   "metadata": {},
   "source": [
    "\n",
    "#### ¿Cuáles han sido los dos años de mayor crecimiento/decrecimiento de empleados?"
   ]
  },
  {
   "cell_type": "code",
   "execution_count": 1430,
   "metadata": {},
   "outputs": [
    {
     "name": "stdout",
     "output_type": "stream",
     "text": [
      "Mayor crecimiento:  2001 con 4 altas, 2003 con 4 altas\n",
      "Mayor decrecimiento:  2012 con 4 bajas, 2015 con 3 bajas\n"
     ]
    }
   ],
   "source": [
    "anyosCrecimiento = anyosAlta.value_counts().sort_values(ascending=False).head(2).reset_index()\n",
    "anyosDecrecimiento = anyosBaja.value_counts().sort_values(ascending=False).head(2).reset_index()\n",
    "\n",
    "print(\n",
    "    'Mayor crecimiento: ',\n",
    "    ', '.join([\n",
    "        f'{y} con {n} altas'\n",
    "        for y, n in zip(anyosCrecimiento['F_ALTA'], anyosCrecimiento['count'])]))\n",
    "\n",
    "print(\n",
    "    'Mayor decrecimiento: ',\n",
    "    ', '.join([\n",
    "        f'{y} con {n} bajas'\n",
    "        for y, n in zip(anyosDecrecimiento['F_BAJA'], anyosDecrecimiento['count'])]))\n"
   ]
  },
  {
   "cell_type": "markdown",
   "metadata": {},
   "source": [
    "\n",
    "#### Distribución de empleados solteros vs casados"
   ]
  },
  {
   "cell_type": "code",
   "execution_count": 1431,
   "metadata": {},
   "outputs": [
    {
     "data": {
      "image/png": "[encoded data removed]",
      "text/plain": [
       "<Figure size 640x480 with 1 Axes>"
      ]
     },
     "metadata": {},
     "output_type": "display_data"
    }
   ],
   "source": [
    "ecivil = empleados['CX_EDOCIVIL'].value_counts()\n",
    "ecivil = ecivil\n",
    "ecivil.plot.pie(\n",
    "    label='Frecuencia entre todos',\n",
    "    labels = ['Solteros', 'Casados'],\n",
    "    autopct=lambda x: f'{round(x * len(empleados) / 100)} ({round(x, 2)}%)')\n",
    "plt.show()"
   ]
  },
  {
   "cell_type": "code",
   "execution_count": 1432,
   "metadata": {},
   "outputs": [
    {
     "data": {
      "image/png": "[encoded data removed]",
      "text/plain": [
       "<Figure size 640x480 with 1 Axes>"
      ]
     },
     "metadata": {},
     "output_type": "display_data"
    }
   ],
   "source": [
    "ecivil = disponibles['CX_EDOCIVIL'].value_counts()\n",
    "ecivil = ecivil\n",
    "ecivil.plot.pie(\n",
    "    label='Frecuencia entre los no dados de baja',\n",
    "    labels = ['Solteros', 'Casados'],\n",
    "    autopct=lambda x: f'{round(x * len(disponibles) / 100)} ({round(x, 2)}%)')\n",
    "plt.show()"
   ]
  },
  {
   "cell_type": "markdown",
   "metadata": {},
   "source": [
    "\n",
    "#### Distribución de la edad de los empleados"
   ]
  },
  {
   "cell_type": "code",
   "execution_count": 1433,
   "metadata": {},
   "outputs": [
    {
     "data": {
      "text/plain": [
       "<Axes: ylabel='Frequency'>"
      ]
     },
     "execution_count": 1433,
     "metadata": {},
     "output_type": "execute_result"
    },
    {
     "data": {
      "image/png": "[encoded data removed]",
      "text/plain": [
       "<Figure size 640x480 with 1 Axes>"
      ]
     },
     "metadata": {},
     "output_type": "display_data"
    }
   ],
   "source": [
    "# No dados de baja\n",
    "disponibles = empleados.loc[empleados['F_BAJA'].isna()].copy()\n",
    "# Edad de años\n",
    "year = datetime.now().year\n",
    "edadEmpleados = year - disponibles['F_NACIMIENTO'].astype('str').str.split('-').str[0].astype('int')\n",
    "\n",
    "edadEmpleados.plot.hist(bins=edadEmpleados.max() - edadEmpleados.min() + 1)"
   ]
  },
  {
   "cell_type": "markdown",
   "metadata": {},
   "source": [
    "\n",
    "#### Edad media y desviación típica de los empleados"
   ]
  },
  {
   "cell_type": "code",
   "execution_count": 1434,
   "metadata": {},
   "outputs": [
    {
     "name": "stdout",
     "output_type": "stream",
     "text": [
      "La edad media es 37.8 años y la desviación típica 9.46\n",
      "Por lo que el ~68% de las edades están entre 28.3 y 47.2\n"
     ]
    }
   ],
   "source": [
    "media, std = edadEmpleados.mean(), edadEmpleados.std()\n",
    "\n",
    "print('La edad media es', round(media, 1), 'años y la desviación típica', round(std, 2))\n",
    "print('Por lo que el ~68% de las edades están entre', round(media - std, 1), 'y', round(media + std, 1))"
   ]
  },
  {
   "cell_type": "markdown",
   "metadata": {},
   "source": [
    "### Proyectos"
   ]
  },
  {
   "cell_type": "markdown",
   "metadata": {},
   "source": [
    "\n",
    "#### Número de proyectos activos, finalizados y total"
   ]
  },
  {
   "cell_type": "code",
   "execution_count": 1435,
   "metadata": {},
   "outputs": [],
   "source": [
    "now = datetime.today().isoformat()[:10]\n",
    "\n",
    "activos = proyectos.loc[proyectos['F_BAJA'].isna()]\n",
    "activos = activos.loc[activos['F_FIN'].astype('str') <= now]\n",
    "nactivos = len(activos)\n",
    "\n",
    "finalizados = proyectos.loc[proyectos['F_BAJA'].isna()]\n",
    "finalizados = finalizados.loc[finalizados['F_FIN'].astype('str') > now]\n",
    "nfinalizados = len(finalizados)\n",
    "\n",
    "nbaja = len(proyectos.loc[proyectos['F_BAJA'].notna()])\n",
    "\n",
    "totalSinBajas = nfinalizados + nactivos\n",
    "\n",
    "totalConBajas = totalSinBajas + nbaja\n"
   ]
  },
  {
   "cell_type": "code",
   "execution_count": 1436,
   "metadata": {},
   "outputs": [
    {
     "data": {
      "image/png": "[encoded data removed]",
      "text/plain": [
       "<Figure size 640x480 with 2 Axes>"
      ]
     },
     "metadata": {},
     "output_type": "display_data"
    }
   ],
   "source": [
    "\n",
    "_, (left, right) = plt.subplots(1, 2, layout='constrained')\n",
    "\n",
    "left.set(title='Proyectos sin bajas', aspect=1)\n",
    "right.set(title='Proyectos incluyendo bajas', aspect=1)\n",
    "\n",
    "\n",
    "x = (nactivos, nfinalizados)\n",
    "left.pie(\n",
    "    x, labels=('Activos', 'Finalizados'),\n",
    "    autopct=lambda n: f'{round(n * totalSinBajas / 100)} ({round(n, 2)}%)')\n",
    "\n",
    "x = (nactivos, nfinalizados, nbaja)\n",
    "right.pie(\n",
    "    x, labels=('Activos', 'Finalizados', 'Baja'),\n",
    "    autopct=lambda n: f'{round(n * totalConBajas / 100)} ({round(n, 2)}%)')\n",
    "\n",
    "plt.show()"
   ]
  },
  {
   "cell_type": "code",
   "execution_count": 1437,
   "metadata": {},
   "outputs": [
    {
     "name": "stdout",
     "output_type": "stream",
     "text": [
      "Proyectos:\n",
      "- 25 Activos\n",
      "- 14 Finalizados\n",
      "- 39 Total (sin incluir bajas)\n",
      "- 48 Total (con bajas)\n"
     ]
    }
   ],
   "source": [
    "print(\n",
    "    'Proyectos:\\n- {} Activos\\n- {} Finalizados\\n- {} Total\\n- {} Total (con bajas)'.format(\n",
    "        nactivos, nfinalizados, totalSinBajas, totalConBajas))"
   ]
  },
  {
   "cell_type": "markdown",
   "metadata": {},
   "source": [
    "\n",
    "#### Distribución de la duración de los proyectos (histograma)"
   ]
  },
  {
   "cell_type": "code",
   "execution_count": 1438,
   "metadata": {},
   "outputs": [],
   "source": [
    "proyectos['F_INICIO'] = pd.to_datetime(proyectos['F_INICIO'], format='%y-%m-%d')\n",
    "proyectos['F_FIN'] = pd.to_datetime(proyectos['F_FIN'], format='%y-%m-%d')"
   ]
  },
  {
   "cell_type": "code",
   "execution_count": 1439,
   "metadata": {},
   "outputs": [
    {
     "data": {
      "image/png": "[encoded data removed]",
      "text/plain": [
       "<Figure size 640x480 with 1 Axes>"
      ]
     },
     "metadata": {},
     "output_type": "display_data"
    }
   ],
   "source": [
    "def form(delta, _):\n",
    "    y = int(delta // 365)\n",
    "    return f'{y}'\n",
    "\n",
    "duraciones = (proyectos['F_FIN'] - proyectos['F_INICIO']).dt.days\n",
    "p = duraciones.plot.hist()\n",
    "p.xaxis.set_major_formatter(form)\n",
    "p.set(title='Duración de proyectos (en años)')\n",
    "plt.show()"
   ]
  },
  {
   "cell_type": "markdown",
   "metadata": {},
   "source": [
    "\n",
    "#### Distribución de proyectos por lugar"
   ]
  },
  {
   "cell_type": "code",
   "execution_count": 1440,
   "metadata": {},
   "outputs": [
    {
     "data": {
      "image/png": "[encoded data removed]",
      "text/plain": [
       "<Figure size 640x480 with 1 Axes>"
      ]
     },
     "metadata": {},
     "output_type": "display_data"
    }
   ],
   "source": [
    "lugares = proyectos['TX_LUGAR']\n",
    "frecLugares = lugares.value_counts().reset_index()\n",
    "plt.bar(frecLugares['TX_LUGAR'], frecLugares['count'])\n",
    "plt.show()"
   ]
  },
  {
   "cell_type": "markdown",
   "metadata": {},
   "source": [
    "### Proyectos y empleados"
   ]
  },
  {
   "cell_type": "markdown",
   "metadata": {},
   "source": [
    "#### Distribución del número de proyectos a los que están asignados los empleados en activo. "
   ]
  },
  {
   "cell_type": "code",
   "execution_count": 1441,
   "metadata": {},
   "outputs": [
    {
     "name": "stdout",
     "output_type": "stream",
     "text": [
      "- Personas asignadas a 1 proyecto: 12,\n",
      "- Personas asignadas a 2 proyectos: 27,\n",
      "- Personas asignadas a 3 proyectos: 28\n"
     ]
    }
   ],
   "source": [
    "asignados = asignaciones['ID_EMPLEADO']\n",
    "asignados = asignados.value_counts().reset_index()\n",
    "asignados = asignados.groupby('count').count().reset_index()\n",
    "print(\n",
    "    ',\\n'.join(\n",
    "        f'- Personas asignadas a {c} proyecto{\"s\" if c != 1 else \"\"}: {n}'\n",
    "        for c, n in zip(asignados['count'], asignados['ID_EMPLEADO'])\n",
    "    ))"
   ]
  },
  {
   "cell_type": "markdown",
   "metadata": {},
   "source": [
    "\n",
    "#### Top 5 proyectos con más personas asignadas"
   ]
  },
  {
   "cell_type": "code",
   "execution_count": 1442,
   "metadata": {},
   "outputs": [
    {
     "data": {
      "text/html": [
       "<div>\n",
       "<style scoped>\n",
       "    .dataframe tbody tr th:only-of-type {\n",
       "        vertical-align: middle;\n",
       "    }\n",
       "\n",
       "    .dataframe tbody tr th {\n",
       "        vertical-align: top;\n",
       "    }\n",
       "\n",
       "    .dataframe thead th {\n",
       "        text-align: right;\n",
       "    }\n",
       "</style>\n",
       "<table border=\"1\" class=\"dataframe\">\n",
       "  <thead>\n",
       "    <tr style=\"text-align: right;\">\n",
       "      <th></th>\n",
       "      <th>ID_PROYECTO</th>\n",
       "      <th>TX_DESCRIPCION</th>\n",
       "      <th>proportion</th>\n",
       "    </tr>\n",
       "  </thead>\n",
       "  <tbody>\n",
       "    <tr>\n",
       "      <th>0</th>\n",
       "      <td>33</td>\n",
       "      <td>Origin tea fully does</td>\n",
       "      <td>11</td>\n",
       "    </tr>\n",
       "    <tr>\n",
       "      <th>1</th>\n",
       "      <td>10</td>\n",
       "      <td>Cause member scale receive trail</td>\n",
       "      <td>7</td>\n",
       "    </tr>\n",
       "    <tr>\n",
       "      <th>2</th>\n",
       "      <td>23</td>\n",
       "      <td>Bare disappear special dust folks realize prac...</td>\n",
       "      <td>7</td>\n",
       "    </tr>\n",
       "    <tr>\n",
       "      <th>3</th>\n",
       "      <td>39</td>\n",
       "      <td>Game saw rocky driver ought today</td>\n",
       "      <td>7</td>\n",
       "    </tr>\n",
       "    <tr>\n",
       "      <th>4</th>\n",
       "      <td>17</td>\n",
       "      <td>Diameter too chest safety exchange</td>\n",
       "      <td>7</td>\n",
       "    </tr>\n",
       "  </tbody>\n",
       "</table>\n",
       "</div>"
      ],
      "text/plain": [
       "   ID_PROYECTO                                     TX_DESCRIPCION  proportion\n",
       "0           33                              Origin tea fully does          11\n",
       "1           10                   Cause member scale receive trail           7\n",
       "2           23  Bare disappear special dust folks realize prac...           7\n",
       "3           39                  Game saw rocky driver ought today           7\n",
       "4           17                 Diameter too chest safety exchange           7"
      ]
     },
     "execution_count": 1442,
     "metadata": {},
     "output_type": "execute_result"
    }
   ],
   "source": [
    "top5 = asignaciones['ID_PROYECTO']\n",
    "top5 = (top5.value_counts(['ID_EMPLEADO']) * len(top5)).astype('int').reset_index()[:5]\n",
    "top5proyectos = top5.join(\n",
    "    proyectos[['ID_PROYECTO', 'TX_DESCRIPCION']],\n",
    "    on='ID_PROYECTO',\n",
    "    rsuffix='_new')[['ID_PROYECTO', 'TX_DESCRIPCION', 'proportion']]\n",
    "\n",
    "top5proyectos"
   ]
  },
  {
   "cell_type": "markdown",
   "metadata": {},
   "source": [
    "\n",
    "#### Lista de proyectos sin personas asignadas (detección de anomalía) "
   ]
  },
  {
   "cell_type": "code",
   "execution_count": 1443,
   "metadata": {},
   "outputs": [
    {
     "data": {
      "text/html": [
       "<div>\n",
       "<style scoped>\n",
       "    .dataframe tbody tr th:only-of-type {\n",
       "        vertical-align: middle;\n",
       "    }\n",
       "\n",
       "    .dataframe tbody tr th {\n",
       "        vertical-align: top;\n",
       "    }\n",
       "\n",
       "    .dataframe thead th {\n",
       "        text-align: right;\n",
       "    }\n",
       "</style>\n",
       "<table border=\"1\" class=\"dataframe\">\n",
       "  <thead>\n",
       "    <tr style=\"text-align: right;\">\n",
       "      <th></th>\n",
       "      <th>ID_PROYECTO</th>\n",
       "      <th>TX_DESCRIPCION</th>\n",
       "      <th>TX_OBSERVACIONES</th>\n",
       "      <th>TX_LUGAR</th>\n",
       "      <th>F_INICIO</th>\n",
       "      <th>F_FIN</th>\n",
       "    </tr>\n",
       "  </thead>\n",
       "  <tbody>\n",
       "    <tr>\n",
       "      <th>8</th>\n",
       "      <td>8</td>\n",
       "      <td>Star equipment locate box no</td>\n",
       "      <td>Done cast welcome apart children lion prevent ...</td>\n",
       "      <td>Barcelona</td>\n",
       "      <td>2026-07-02</td>\n",
       "      <td>2033-03-25</td>\n",
       "    </tr>\n",
       "    <tr>\n",
       "      <th>21</th>\n",
       "      <td>21</td>\n",
       "      <td>Roll usually choice been further</td>\n",
       "      <td>Sale hair treated hunter river while review no...</td>\n",
       "      <td>Madrid</td>\n",
       "      <td>2028-06-21</td>\n",
       "      <td>2029-04-28</td>\n",
       "    </tr>\n",
       "    <tr>\n",
       "      <th>26</th>\n",
       "      <td>26</td>\n",
       "      <td>Main surface quietly</td>\n",
       "      <td>Desk corner mistake joy railroad fierce consta...</td>\n",
       "      <td>Madrid</td>\n",
       "      <td>2026-11-03</td>\n",
       "      <td>2034-08-24</td>\n",
       "    </tr>\n",
       "    <tr>\n",
       "      <th>31</th>\n",
       "      <td>31</td>\n",
       "      <td>Agree first see quick impossible</td>\n",
       "      <td>Atomic indeed factory perhaps imagine number s...</td>\n",
       "      <td>Barcelona</td>\n",
       "      <td>2028-10-13</td>\n",
       "      <td>2035-12-02</td>\n",
       "    </tr>\n",
       "    <tr>\n",
       "      <th>36</th>\n",
       "      <td>36</td>\n",
       "      <td>Whose became hill fine face activity</td>\n",
       "      <td>Bow dinner gravity bread believed position fai...</td>\n",
       "      <td>Málaga</td>\n",
       "      <td>2027-10-04</td>\n",
       "      <td>2034-01-09</td>\n",
       "    </tr>\n",
       "    <tr>\n",
       "      <th>40</th>\n",
       "      <td>40</td>\n",
       "      <td>Spider branch hat save origin</td>\n",
       "      <td>Nose how solid red strike specific shoot firm ...</td>\n",
       "      <td>Zaragoza</td>\n",
       "      <td>2028-05-07</td>\n",
       "      <td>2039-06-23</td>\n",
       "    </tr>\n",
       "  </tbody>\n",
       "</table>\n",
       "</div>"
      ],
      "text/plain": [
       "    ID_PROYECTO                        TX_DESCRIPCION  \\\n",
       "8             8          Star equipment locate box no   \n",
       "21           21      Roll usually choice been further   \n",
       "26           26                  Main surface quietly   \n",
       "31           31      Agree first see quick impossible   \n",
       "36           36  Whose became hill fine face activity   \n",
       "40           40         Spider branch hat save origin   \n",
       "\n",
       "                                     TX_OBSERVACIONES   TX_LUGAR   F_INICIO  \\\n",
       "8   Done cast welcome apart children lion prevent ...  Barcelona 2026-07-02   \n",
       "21  Sale hair treated hunter river while review no...     Madrid 2028-06-21   \n",
       "26  Desk corner mistake joy railroad fierce consta...     Madrid 2026-11-03   \n",
       "31  Atomic indeed factory perhaps imagine number s...  Barcelona 2028-10-13   \n",
       "36  Bow dinner gravity bread believed position fai...     Málaga 2027-10-04   \n",
       "40  Nose how solid red strike specific shoot firm ...   Zaragoza 2028-05-07   \n",
       "\n",
       "        F_FIN  \n",
       "8  2033-03-25  \n",
       "21 2029-04-28  \n",
       "26 2034-08-24  \n",
       "31 2035-12-02  \n",
       "36 2034-01-09  \n",
       "40 2039-06-23  "
      ]
     },
     "execution_count": 1443,
     "metadata": {},
     "output_type": "execute_result"
    }
   ],
   "source": [
    "proyectosAsignados = asignaciones['ID_PROYECTO'].unique()\n",
    "noasignados = ~proyectos['ID_PROYECTO'].isin(proyectosAsignados)\n",
    "\n",
    "pnoasig = proyectos.loc[noasignados]\n",
    "pnoasig.loc[pnoasig['F_BAJA'].isna()][['ID_PROYECTO', 'TX_DESCRIPCION', 'TX_OBSERVACIONES', 'TX_LUGAR', 'F_INICIO', 'F_FIN']]"
   ]
  }
 ],
 "metadata": {
  "kernelspec": {
   "display_name": "Python 3",
   "language": "python",
   "name": "python3"
  },
  "language_info": {
   "codemirror_mode": {
    "name": "ipython",
    "version": 3
   },
   "file_extension": ".py",
   "mimetype": "text/x-python",
   "name": "python",
   "nbconvert_exporter": "python",
   "pygments_lexer": "ipython3",
   "version": "3.8.0"
  }
 },
 "nbformat": 4,
 "nbformat_minor": 2
}
