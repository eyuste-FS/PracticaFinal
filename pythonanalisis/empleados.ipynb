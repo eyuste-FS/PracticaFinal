{
 "cells": [
  {
   "cell_type": "markdown",
   "metadata": {},
   "source": [
    "# Análisis estadístico"
   ]
  },
  {
   "cell_type": "markdown",
   "metadata": {},
   "source": [
    "## Obtención de base de datos"
   ]
  },
  {
   "cell_type": "code",
   "execution_count": 235,
   "metadata": {},
   "outputs": [],
   "source": [
    "import mysql.connector as connection\n",
    "import pandas as pd\n",
    "import matplotlib.pyplot as plt\n",
    "from datetime import datetime"
   ]
  },
  {
   "cell_type": "code",
   "execution_count": 236,
   "metadata": {},
   "outputs": [],
   "source": [
    "def queryDF(q) -> pd.DataFrame:\n",
    "    try:\n",
    "        mydb = connection.connect(host=\"localhost\", database = 'practica',user=\"root\", passwd=\"root\", use_pure=True)\n",
    "        result_dataFrame = pd.read_sql(q, mydb)\n",
    "    except Exception as e:\n",
    "        print('Excepcion', str(e))\n",
    "        result_dataFrame = None\n",
    "    finally:\n",
    "        mydb.close()\n",
    "    return result_dataFrame"
   ]
  },
  {
   "cell_type": "code",
   "execution_count": 237,
   "metadata": {},
   "outputs": [
    {
     "name": "stderr",
     "output_type": "stream",
     "text": [
      "C:\\Users\\eyuste\\AppData\\Local\\Temp\\ipykernel_18128\\2671971924.py:4: UserWarning: pandas only supports SQLAlchemy connectable (engine/connection) or database string URI or sqlite3 DBAPI2 connection. Other DBAPI2 objects are not tested. Please consider using SQLAlchemy.\n",
      "  result_dataFrame = pd.read_sql(q, mydb)\n"
     ]
    }
   ],
   "source": [
    "empleados = queryDF('select * from em_empleados')"
   ]
  },
  {
   "cell_type": "code",
   "execution_count": 238,
   "metadata": {},
   "outputs": [
    {
     "data": {
      "text/html": [
       "<div>\n",
       "<style scoped>\n",
       "    .dataframe tbody tr th:only-of-type {\n",
       "        vertical-align: middle;\n",
       "    }\n",
       "\n",
       "    .dataframe tbody tr th {\n",
       "        vertical-align: top;\n",
       "    }\n",
       "\n",
       "    .dataframe thead th {\n",
       "        text-align: right;\n",
       "    }\n",
       "</style>\n",
       "<table border=\"1\" class=\"dataframe\">\n",
       "  <thead>\n",
       "    <tr style=\"text-align: right;\">\n",
       "      <th></th>\n",
       "      <th>B_SERVMILITAR</th>\n",
       "      <th>CX_EDOCIVIL</th>\n",
       "      <th>F_ALTA</th>\n",
       "      <th>F_BAJA</th>\n",
       "      <th>F_NACIMIENTO</th>\n",
       "      <th>ID_EMPLEADO</th>\n",
       "      <th>N_TELEFONO1</th>\n",
       "      <th>N_TELEFONO2</th>\n",
       "      <th>TX_APELLIDO1</th>\n",
       "      <th>TX_APELLIDO2</th>\n",
       "      <th>TX_EMAIL</th>\n",
       "      <th>TX_NIF</th>\n",
       "      <th>TX_NOMBRE</th>\n",
       "    </tr>\n",
       "  </thead>\n",
       "  <tbody>\n",
       "    <tr>\n",
       "      <th>0</th>\n",
       "      <td>N</td>\n",
       "      <td>C</td>\n",
       "      <td>1984-12-27</td>\n",
       "      <td>None</td>\n",
       "      <td>1986-02-18</td>\n",
       "      <td>1</td>\n",
       "      <td>206659192</td>\n",
       "      <td>651894996</td>\n",
       "      <td>White</td>\n",
       "      <td>Phillips</td>\n",
       "      <td>alfred.white@gmail.com</td>\n",
       "      <td>88953399G</td>\n",
       "      <td>Alfred</td>\n",
       "    </tr>\n",
       "    <tr>\n",
       "      <th>1</th>\n",
       "      <td>N</td>\n",
       "      <td>S</td>\n",
       "      <td>1995-05-23</td>\n",
       "      <td>None</td>\n",
       "      <td>1993-03-25</td>\n",
       "      <td>2</td>\n",
       "      <td>530089955</td>\n",
       "      <td>363562170</td>\n",
       "      <td>Hamilton</td>\n",
       "      <td>Welch</td>\n",
       "      <td>leila.hamilton@gmail.com</td>\n",
       "      <td>42401933C</td>\n",
       "      <td>Leila</td>\n",
       "    </tr>\n",
       "    <tr>\n",
       "      <th>2</th>\n",
       "      <td>N</td>\n",
       "      <td>C</td>\n",
       "      <td>1965-09-12</td>\n",
       "      <td>None</td>\n",
       "      <td>1968-10-23</td>\n",
       "      <td>3</td>\n",
       "      <td>685914896</td>\n",
       "      <td>786964436</td>\n",
       "      <td>Fletcher</td>\n",
       "      <td>Wilson</td>\n",
       "      <td>bertie.fletcher@gmail.com</td>\n",
       "      <td>52971090P</td>\n",
       "      <td>Bertie</td>\n",
       "    </tr>\n",
       "    <tr>\n",
       "      <th>3</th>\n",
       "      <td>N</td>\n",
       "      <td>S</td>\n",
       "      <td>1996-08-18</td>\n",
       "      <td>None</td>\n",
       "      <td>1991-10-17</td>\n",
       "      <td>4</td>\n",
       "      <td>544312981</td>\n",
       "      <td>973476153</td>\n",
       "      <td>Adkins</td>\n",
       "      <td>Butler</td>\n",
       "      <td>barry.adkins@gmail.com</td>\n",
       "      <td>41056311G</td>\n",
       "      <td>Barry</td>\n",
       "    </tr>\n",
       "    <tr>\n",
       "      <th>4</th>\n",
       "      <td>N</td>\n",
       "      <td>S</td>\n",
       "      <td>2006-11-20</td>\n",
       "      <td>None</td>\n",
       "      <td>1979-06-16</td>\n",
       "      <td>5</td>\n",
       "      <td>530855714</td>\n",
       "      <td>800507080</td>\n",
       "      <td>Morgan</td>\n",
       "      <td>Bates</td>\n",
       "      <td>emma.morgan@gmail.com</td>\n",
       "      <td>70090020R</td>\n",
       "      <td>Emma</td>\n",
       "    </tr>\n",
       "  </tbody>\n",
       "</table>\n",
       "</div>"
      ],
      "text/plain": [
       "  B_SERVMILITAR CX_EDOCIVIL      F_ALTA F_BAJA F_NACIMIENTO  ID_EMPLEADO  \\\n",
       "0             N           C  1984-12-27   None   1986-02-18            1   \n",
       "1             N           S  1995-05-23   None   1993-03-25            2   \n",
       "2             N           C  1965-09-12   None   1968-10-23            3   \n",
       "3             N           S  1996-08-18   None   1991-10-17            4   \n",
       "4             N           S  2006-11-20   None   1979-06-16            5   \n",
       "\n",
       "  N_TELEFONO1 N_TELEFONO2 TX_APELLIDO1 TX_APELLIDO2  \\\n",
       "0   206659192   651894996        White     Phillips   \n",
       "1   530089955   363562170     Hamilton        Welch   \n",
       "2   685914896   786964436     Fletcher       Wilson   \n",
       "3   544312981   973476153       Adkins       Butler   \n",
       "4   530855714   800507080       Morgan        Bates   \n",
       "\n",
       "                    TX_EMAIL     TX_NIF TX_NOMBRE  \n",
       "0     alfred.white@gmail.com  88953399G    Alfred  \n",
       "1   leila.hamilton@gmail.com  42401933C     Leila  \n",
       "2  bertie.fletcher@gmail.com  52971090P    Bertie  \n",
       "3     barry.adkins@gmail.com  41056311G     Barry  \n",
       "4      emma.morgan@gmail.com  70090020R      Emma  "
      ]
     },
     "execution_count": 238,
     "metadata": {},
     "output_type": "execute_result"
    }
   ],
   "source": [
    "empleados.head()"
   ]
  },
  {
   "cell_type": "markdown",
   "metadata": {},
   "source": [
    "## Estadísticas"
   ]
  },
  {
   "cell_type": "markdown",
   "metadata": {},
   "source": [
    "#### Empleados\n",
    "- Top 5 empleados que más años llevan en la compañía\n",
    "- Top 5 empleados más recientes\n",
    "- Distribución del número de años de los empleados en la empresa\n",
    "- Evolución temporal de altas por años\n",
    "- Evolución temporal de bajas por años (se puede combinar con la anterior si se desea)\n",
    "- ¿Cuáles han sido los dos años de mayor crecimiento/decrecimiento de empleados?\n",
    "- Distribución de empleados solteros vs casados\n",
    "- Distribución de la edad de los empleados\n",
    "- Edad media y desviación típica de los empleados\n",
    "\n",
    "#### Proyectos\n",
    "- Número de proyectos activos, finalizados y total\n",
    "- Distribución de la duración de los proyectos (histograma)\n",
    "- Distribución de proyectos por lugar\n",
    "\n",
    "#### Proyectos y Empleados\n",
    "- Distribución del número de proyectos a los que están asignados los empleados en activo. \n",
    "- Ejemplo: \n",
    "\t- Personas asignadas a 1 proyecto: 54, \n",
    "\t- Personas asignadas a 2 proyectos: 12,\n",
    "\t- Personas asignadas a 3 proyectos: 2\n",
    "- Top 5 proyectos con más personas asignadas\n",
    "- Lista de proyectos sin personas asignadas (detección de anomalía)  \n"
   ]
  },
  {
   "cell_type": "markdown",
   "metadata": {},
   "source": [
    "### Empleados"
   ]
  },
  {
   "cell_type": "markdown",
   "metadata": {},
   "source": [
    "#### Top 5 empleados que más años llevan en la compañía"
   ]
  },
  {
   "cell_type": "code",
   "execution_count": 239,
   "metadata": {},
   "outputs": [
    {
     "data": {
      "text/html": [
       "<div>\n",
       "<style scoped>\n",
       "    .dataframe tbody tr th:only-of-type {\n",
       "        vertical-align: middle;\n",
       "    }\n",
       "\n",
       "    .dataframe tbody tr th {\n",
       "        vertical-align: top;\n",
       "    }\n",
       "\n",
       "    .dataframe thead th {\n",
       "        text-align: right;\n",
       "    }\n",
       "</style>\n",
       "<table border=\"1\" class=\"dataframe\">\n",
       "  <thead>\n",
       "    <tr style=\"text-align: right;\">\n",
       "      <th></th>\n",
       "      <th>TX_NIF</th>\n",
       "      <th>TX_NOMBRE</th>\n",
       "      <th>TX_APELLIDO1</th>\n",
       "      <th>TX_APELLIDO2</th>\n",
       "      <th>TX_EMAIL</th>\n",
       "      <th>F_ALTA</th>\n",
       "    </tr>\n",
       "  </thead>\n",
       "  <tbody>\n",
       "    <tr>\n",
       "      <th>40</th>\n",
       "      <td>13761491E</td>\n",
       "      <td>Isabelle</td>\n",
       "      <td>Lloyd</td>\n",
       "      <td>Jones</td>\n",
       "      <td>isabelle.lloyd@gmail.com</td>\n",
       "      <td>1936-07-13</td>\n",
       "    </tr>\n",
       "    <tr>\n",
       "      <th>19</th>\n",
       "      <td>27194980B</td>\n",
       "      <td>Jorge</td>\n",
       "      <td>Pierce</td>\n",
       "      <td>Conner</td>\n",
       "      <td>jorge.pierce@gmail.com</td>\n",
       "      <td>1939-06-18</td>\n",
       "    </tr>\n",
       "    <tr>\n",
       "      <th>42</th>\n",
       "      <td>70866763E</td>\n",
       "      <td>Esther</td>\n",
       "      <td>Wilkerson</td>\n",
       "      <td>Todd</td>\n",
       "      <td>esther.wilkerson@gmail.com</td>\n",
       "      <td>1939-12-17</td>\n",
       "    </tr>\n",
       "    <tr>\n",
       "      <th>20</th>\n",
       "      <td>37621966W</td>\n",
       "      <td>Troy</td>\n",
       "      <td>Hawkins</td>\n",
       "      <td>Hawkins</td>\n",
       "      <td>troy.hawkins@gmail.com</td>\n",
       "      <td>1940-07-20</td>\n",
       "    </tr>\n",
       "    <tr>\n",
       "      <th>10</th>\n",
       "      <td>86501636G</td>\n",
       "      <td>Adrian</td>\n",
       "      <td>Clark</td>\n",
       "      <td>Cooper</td>\n",
       "      <td>adrian.clark@gmail.com</td>\n",
       "      <td>1946-01-04</td>\n",
       "    </tr>\n",
       "  </tbody>\n",
       "</table>\n",
       "</div>"
      ],
      "text/plain": [
       "       TX_NIF TX_NOMBRE TX_APELLIDO1 TX_APELLIDO2                    TX_EMAIL  \\\n",
       "40  13761491E  Isabelle        Lloyd        Jones    isabelle.lloyd@gmail.com   \n",
       "19  27194980B     Jorge       Pierce       Conner      jorge.pierce@gmail.com   \n",
       "42  70866763E    Esther    Wilkerson         Todd  esther.wilkerson@gmail.com   \n",
       "20  37621966W      Troy      Hawkins      Hawkins      troy.hawkins@gmail.com   \n",
       "10  86501636G    Adrian        Clark       Cooper      adrian.clark@gmail.com   \n",
       "\n",
       "        F_ALTA  \n",
       "40  1936-07-13  \n",
       "19  1939-06-18  \n",
       "42  1939-12-17  \n",
       "20  1940-07-20  \n",
       "10  1946-01-04  "
      ]
     },
     "execution_count": 239,
     "metadata": {},
     "output_type": "execute_result"
    }
   ],
   "source": [
    "# No dados de baja\n",
    "disponibles = empleados.loc[empleados['F_BAJA'].isna()].copy()\n",
    "# Ordenar por antiguedad\n",
    "ordenados = disponibles.sort_values(['F_ALTA'])[\n",
    "    ['TX_NIF', 'TX_NOMBRE', 'TX_APELLIDO1', 'TX_APELLIDO2', 'TX_EMAIL', 'F_ALTA']]\n",
    "# Limitar a los 5\n",
    "top5MasAnyos = ordenados.head(5)\n",
    "top5MasAnyos"
   ]
  },
  {
   "cell_type": "markdown",
   "metadata": {},
   "source": [
    "#### Top 5 empleados más recientes"
   ]
  },
  {
   "cell_type": "code",
   "execution_count": 240,
   "metadata": {},
   "outputs": [
    {
     "data": {
      "text/html": [
       "<div>\n",
       "<style scoped>\n",
       "    .dataframe tbody tr th:only-of-type {\n",
       "        vertical-align: middle;\n",
       "    }\n",
       "\n",
       "    .dataframe tbody tr th {\n",
       "        vertical-align: top;\n",
       "    }\n",
       "\n",
       "    .dataframe thead th {\n",
       "        text-align: right;\n",
       "    }\n",
       "</style>\n",
       "<table border=\"1\" class=\"dataframe\">\n",
       "  <thead>\n",
       "    <tr style=\"text-align: right;\">\n",
       "      <th></th>\n",
       "      <th>TX_NIF</th>\n",
       "      <th>TX_NOMBRE</th>\n",
       "      <th>TX_APELLIDO1</th>\n",
       "      <th>TX_APELLIDO2</th>\n",
       "      <th>TX_EMAIL</th>\n",
       "      <th>F_ALTA</th>\n",
       "    </tr>\n",
       "  </thead>\n",
       "  <tbody>\n",
       "    <tr>\n",
       "      <th>46</th>\n",
       "      <td>87541974K</td>\n",
       "      <td>Devin</td>\n",
       "      <td>Bailey</td>\n",
       "      <td>Hunt</td>\n",
       "      <td>devin.bailey@gmail.com</td>\n",
       "      <td>2018-08-17</td>\n",
       "    </tr>\n",
       "    <tr>\n",
       "      <th>16</th>\n",
       "      <td>90151977P</td>\n",
       "      <td>Leah</td>\n",
       "      <td>Pena</td>\n",
       "      <td>Pierce</td>\n",
       "      <td>leah.pena@gmail.com</td>\n",
       "      <td>2017-06-16</td>\n",
       "    </tr>\n",
       "    <tr>\n",
       "      <th>89</th>\n",
       "      <td>14136084Y</td>\n",
       "      <td>Evelyn</td>\n",
       "      <td>Carter</td>\n",
       "      <td>Chambers</td>\n",
       "      <td>evelyn.carter@gmail.com</td>\n",
       "      <td>2015-07-05</td>\n",
       "    </tr>\n",
       "    <tr>\n",
       "      <th>59</th>\n",
       "      <td>34065433J</td>\n",
       "      <td>David</td>\n",
       "      <td>Jensen</td>\n",
       "      <td>Park</td>\n",
       "      <td>david.jensen@gmail.com</td>\n",
       "      <td>2014-08-09</td>\n",
       "    </tr>\n",
       "    <tr>\n",
       "      <th>54</th>\n",
       "      <td>79260073L</td>\n",
       "      <td>Jimmy</td>\n",
       "      <td>Wong</td>\n",
       "      <td>Schneider</td>\n",
       "      <td>jimmy.wong@gmail.com</td>\n",
       "      <td>2012-10-22</td>\n",
       "    </tr>\n",
       "  </tbody>\n",
       "</table>\n",
       "</div>"
      ],
      "text/plain": [
       "       TX_NIF TX_NOMBRE TX_APELLIDO1 TX_APELLIDO2                 TX_EMAIL  \\\n",
       "46  87541974K     Devin       Bailey         Hunt   devin.bailey@gmail.com   \n",
       "16  90151977P      Leah         Pena       Pierce      leah.pena@gmail.com   \n",
       "89  14136084Y    Evelyn       Carter     Chambers  evelyn.carter@gmail.com   \n",
       "59  34065433J     David       Jensen         Park   david.jensen@gmail.com   \n",
       "54  79260073L     Jimmy         Wong    Schneider     jimmy.wong@gmail.com   \n",
       "\n",
       "        F_ALTA  \n",
       "46  2018-08-17  \n",
       "16  2017-06-16  \n",
       "89  2015-07-05  \n",
       "59  2014-08-09  \n",
       "54  2012-10-22  "
      ]
     },
     "execution_count": 240,
     "metadata": {},
     "output_type": "execute_result"
    }
   ],
   "source": [
    "# No dados de baja\n",
    "disponibles = empleados.loc[empleados['F_BAJA'].isna()].copy()\n",
    "# Ordenar por antiguedad\n",
    "ordenados = disponibles.sort_values(['F_ALTA'], ascending=False)[\n",
    "    ['TX_NIF', 'TX_NOMBRE', 'TX_APELLIDO1', 'TX_APELLIDO2', 'TX_EMAIL', 'F_ALTA']]\n",
    "# Limitar a los 5\n",
    "top5MasRecientes = ordenados.head(5)\n",
    "top5MasRecientes"
   ]
  },
  {
   "cell_type": "markdown",
   "metadata": {},
   "source": [
    "#### Distribución del número de años de los empleados en la empresa"
   ]
  },
  {
   "cell_type": "code",
   "execution_count": 250,
   "metadata": {},
   "outputs": [
    {
     "data": {
      "text/plain": [
       "<Axes: ylabel='Frequency'>"
      ]
     },
     "execution_count": 250,
     "metadata": {},
     "output_type": "execute_result"
    },
    {
     "data": {
      "image/png": "[encoded data removed]",
      "text/plain": [
       "<Figure size 640x480 with 1 Axes>"
      ]
     },
     "metadata": {},
     "output_type": "display_data"
    }
   ],
   "source": [
    "# No dados de baja\n",
    "disponibles = empleados.loc[empleados['F_BAJA'].isna()].copy()\n",
    "# Numero de años\n",
    "anyosAlta = disponibles['F_ALTA'].astype('str').str.split('-').str[0].astype('int')\n",
    "nAnyos = 2023 - anyosAlta\n",
    "\n",
    "nAnyos.plot.hist(bins=nAnyos.max() - nAnyos.min() + 1)"
   ]
  },
  {
   "cell_type": "markdown",
   "metadata": {},
   "source": [
    "#### Evolución temporal de altas por años y Evolución temporal de bajas por años"
   ]
  },
  {
   "cell_type": "code",
   "execution_count": 251,
   "metadata": {},
   "outputs": [
    {
     "data": {
      "text/plain": [
       "<matplotlib.legend.Legend at 0x193e178deb0>"
      ]
     },
     "execution_count": 251,
     "metadata": {},
     "output_type": "execute_result"
    },
    {
     "data": {
      "image/png": "[encoded data removed]",
      "text/plain": [
       "<Figure size 640x480 with 1 Axes>"
      ]
     },
     "metadata": {},
     "output_type": "display_data"
    }
   ],
   "source": [
    "# Dados de baja\n",
    "deBaja = empleados.loc[empleados['F_BAJA'].notna()].copy()\n",
    "anyosBaja = deBaja['F_BAJA'].astype('str').str.split('-').str[0].astype('int')\n",
    "\n",
    "anyosAlta.plot.hist(bins=anyosAlta.max() - anyosAlta.min() + 1, label='Altas')\n",
    "anyosBaja.plot.hist(bins=anyosBaja.max() - anyosBaja.min() + 1, label='Bajas')\n",
    "plt.legend()"
   ]
  },
  {
   "cell_type": "markdown",
   "metadata": {},
   "source": [
    "\n",
    "#### ¿Cuáles han sido los dos años de mayor crecimiento/decrecimiento de empleados?"
   ]
  },
  {
   "cell_type": "code",
   "execution_count": 243,
   "metadata": {},
   "outputs": [
    {
     "name": "stdout",
     "output_type": "stream",
     "text": [
      "Mayor crecimiento:  1996 con 5 altas, 1971 con 3 altas\n",
      "Mayor decrecimiento:  2012 con 3 bajas, 2018 con 2 bajas\n"
     ]
    }
   ],
   "source": [
    "anyosCrecimiento = anyosAlta.value_counts().sort_values(ascending=False).head(2).reset_index()\n",
    "anyosDecrecimiento = anyosBaja.value_counts().sort_values(ascending=False).head(2).reset_index()\n",
    "\n",
    "print(\n",
    "    'Mayor crecimiento: ',\n",
    "    ', '.join([\n",
    "        f'{y} con {n} altas'\n",
    "        for y, n in zip(anyosCrecimiento['F_ALTA'], anyosCrecimiento['count'])]))\n",
    "\n",
    "print(\n",
    "    'Mayor decrecimiento: ',\n",
    "    ', '.join([\n",
    "        f'{y} con {n} bajas'\n",
    "        for y, n in zip(anyosDecrecimiento['F_BAJA'], anyosDecrecimiento['count'])]))\n"
   ]
  },
  {
   "cell_type": "markdown",
   "metadata": {},
   "source": [
    "\n",
    "#### Distribución de empleados solteros vs casados"
   ]
  },
  {
   "cell_type": "code",
   "execution_count": 244,
   "metadata": {},
   "outputs": [
    {
     "data": {
      "text/plain": [
       "<Axes: ylabel='Frecuencia entre todos'>"
      ]
     },
     "execution_count": 244,
     "metadata": {},
     "output_type": "execute_result"
    },
    {
     "data": {
      "image/png": "[encoded data removed]",
      "text/plain": [
       "<Figure size 640x480 with 1 Axes>"
      ]
     },
     "metadata": {},
     "output_type": "display_data"
    }
   ],
   "source": [
    "ecivil = empleados['CX_EDOCIVIL'].value_counts()\n",
    "ecivil = ecivil\n",
    "ecivil.plot.pie(\n",
    "    label='Frecuencia entre todos',\n",
    "    labels = ['Solteros', 'Casados'],\n",
    "    autopct=lambda x: f'{round(x * len(empleados) / 100)} ({round(x, 2)}%)')\n"
   ]
  },
  {
   "cell_type": "code",
   "execution_count": 245,
   "metadata": {},
   "outputs": [
    {
     "data": {
      "text/plain": [
       "<Axes: ylabel='Frecuencia entre los no dados de baja'>"
      ]
     },
     "execution_count": 245,
     "metadata": {},
     "output_type": "execute_result"
    },
    {
     "data": {
      "image/png": "[encoded data removed]",
      "text/plain": [
       "<Figure size 640x480 with 1 Axes>"
      ]
     },
     "metadata": {},
     "output_type": "display_data"
    }
   ],
   "source": [
    "ecivil = disponibles['CX_EDOCIVIL'].value_counts()\n",
    "ecivil = ecivil\n",
    "ecivil.plot.pie(\n",
    "    label='Frecuencia entre los no dados de baja',\n",
    "    labels = ['Solteros', 'Casados'],\n",
    "    autopct=lambda x: f'{round(x * len(disponibles) / 100)} ({round(x, 2)}%)')"
   ]
  },
  {
   "cell_type": "markdown",
   "metadata": {},
   "source": [
    "\n",
    "#### Distribución de la edad de los empleados"
   ]
  },
  {
   "cell_type": "code",
   "execution_count": 246,
   "metadata": {},
   "outputs": [
    {
     "data": {
      "text/plain": [
       "<Axes: ylabel='Frequency'>"
      ]
     },
     "execution_count": 246,
     "metadata": {},
     "output_type": "execute_result"
    },
    {
     "data": {
      "image/png": "[encoded data removed]",
      "text/plain": [
       "<Figure size 640x480 with 1 Axes>"
      ]
     },
     "metadata": {},
     "output_type": "display_data"
    }
   ],
   "source": [
    "# No dados de baja\n",
    "disponibles = empleados.loc[empleados['F_BAJA'].isna()].copy()\n",
    "# Edad de años\n",
    "year = datetime.now().year\n",
    "edadEmpleados = year - disponibles['F_NACIMIENTO'].astype('str').str.split('-').str[0].astype('int')\n",
    "\n",
    "edadEmpleados.plot.hist(bins=edadEmpleados.max() - edadEmpleados.min() + 1)"
   ]
  },
  {
   "cell_type": "markdown",
   "metadata": {},
   "source": [
    "\n",
    "#### Edad media y desviación típica de los empleados"
   ]
  },
  {
   "cell_type": "code",
   "execution_count": 257,
   "metadata": {},
   "outputs": [
    {
     "name": "stdout",
     "output_type": "stream",
     "text": [
      "La edad media es 41.9 años y la desviación típica 11.6\n",
      "Por lo que el ~68% de las edades están entre 30.3 y 53.5\n"
     ]
    }
   ],
   "source": [
    "media, std = edadEmpleados.mean(), edadEmpleados.std()\n",
    "\n",
    "print('La edad media es', round(media, 1), 'años y la desviación típica', round(std, 2))\n",
    "print('Por lo que el ~68% de las edades están entre', round(media - std, 1), 'y', round(media + std, 1))"
   ]
  },
  {
   "cell_type": "markdown",
   "metadata": {},
   "source": [
    "### Proyectos"
   ]
  },
  {
   "cell_type": "markdown",
   "metadata": {},
   "source": [
    "\n",
    "#### Número de proyectos activos, finalizados y total"
   ]
  },
  {
   "cell_type": "code",
   "execution_count": null,
   "metadata": {},
   "outputs": [],
   "source": []
  },
  {
   "cell_type": "markdown",
   "metadata": {},
   "source": [
    "\n",
    "#### Distribución de la duración de los proyectos (histograma)"
   ]
  },
  {
   "cell_type": "code",
   "execution_count": null,
   "metadata": {},
   "outputs": [],
   "source": []
  },
  {
   "cell_type": "markdown",
   "metadata": {},
   "source": [
    "\n",
    "#### Distribución de proyectos por lugar"
   ]
  },
  {
   "cell_type": "code",
   "execution_count": null,
   "metadata": {},
   "outputs": [],
   "source": []
  },
  {
   "cell_type": "markdown",
   "metadata": {},
   "source": [
    "### Proyectos y empleados"
   ]
  },
  {
   "cell_type": "markdown",
   "metadata": {},
   "source": [
    "#### Distribución del número de proyectos a los que están asignados los empleados en activo. \n",
    "Ejemplo: \n",
    "- Personas asignadas a 1 proyecto: 54, \n",
    "- Personas asignadas a 2 proyectos: 12,\n",
    "- Personas asignadas a 3 proyectos: 2"
   ]
  },
  {
   "cell_type": "code",
   "execution_count": null,
   "metadata": {},
   "outputs": [],
   "source": []
  },
  {
   "cell_type": "markdown",
   "metadata": {},
   "source": [
    "\n",
    "#### Top 5 proyectos con más personas asignadas"
   ]
  },
  {
   "cell_type": "code",
   "execution_count": null,
   "metadata": {},
   "outputs": [],
   "source": []
  },
  {
   "cell_type": "markdown",
   "metadata": {},
   "source": [
    "\n",
    "#### Lista de proyectos sin personas asignadas (detección de anomalía) "
   ]
  },
  {
   "cell_type": "code",
   "execution_count": null,
   "metadata": {},
   "outputs": [],
   "source": []
  }
 ],
 "metadata": {
  "kernelspec": {
   "display_name": "Python 3",
   "language": "python",
   "name": "python3"
  },
  "language_info": {
   "codemirror_mode": {
    "name": "ipython",
    "version": 3
   },
   "file_extension": ".py",
   "mimetype": "text/x-python",
   "name": "python",
   "nbconvert_exporter": "python",
   "pygments_lexer": "ipython3",
   "version": "3.8.0"
  }
 },
 "nbformat": 4,
 "nbformat_minor": 2
}
