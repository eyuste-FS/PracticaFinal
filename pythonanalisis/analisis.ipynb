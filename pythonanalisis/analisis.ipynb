{
 "cells": [
  {
   "cell_type": "markdown",
   "metadata": {},
   "source": [
    "# Análisis estadístico"
   ]
  },
  {
   "cell_type": "markdown",
   "metadata": {},
   "source": [
    "## Obtención de base de datos"
   ]
  },
  {
   "cell_type": "code",
   "execution_count": 74,
   "metadata": {},
   "outputs": [],
   "source": [
    "import mysql.connector as connection\n",
    "import pandas as pd\n",
    "import matplotlib.pyplot as plt\n",
    "from datetime import datetime"
   ]
  },
  {
   "cell_type": "code",
   "execution_count": 75,
   "metadata": {},
   "outputs": [],
   "source": [
    "def queryDF(q) -> pd.DataFrame:\n",
    "    try:\n",
    "        mydb = connection.connect(host=\"localhost\", database = 'practica',user=\"root\", passwd=\"root\", use_pure=True)\n",
    "        result_dataFrame = pd.read_sql(q, mydb)\n",
    "    except Exception as e:\n",
    "        print('Excepcion', str(e))\n",
    "        result_dataFrame = None\n",
    "    finally:\n",
    "        mydb.close()\n",
    "    return result_dataFrame"
   ]
  },
  {
   "cell_type": "code",
   "execution_count": 76,
   "metadata": {},
   "outputs": [
    {
     "name": "stderr",
     "output_type": "stream",
     "text": [
      "C:\\Users\\eyuste\\AppData\\Local\\Temp\\ipykernel_14232\\2671971924.py:4: UserWarning: pandas only supports SQLAlchemy connectable (engine/connection) or database string URI or sqlite3 DBAPI2 connection. Other DBAPI2 objects are not tested. Please consider using SQLAlchemy.\n",
      "  result_dataFrame = pd.read_sql(q, mydb)\n"
     ]
    }
   ],
   "source": [
    "empleados = queryDF('select * from em_empleados')\n",
    "proyectos = queryDF('select * from pr_proyectos')\n",
    "asignaciones = queryDF('select * from pr_empleados_proyecto')"
   ]
  },
  {
   "cell_type": "code",
   "execution_count": 77,
   "metadata": {},
   "outputs": [
    {
     "data": {
      "text/html": [
       "<div>\n",
       "<style scoped>\n",
       "    .dataframe tbody tr th:only-of-type {\n",
       "        vertical-align: middle;\n",
       "    }\n",
       "\n",
       "    .dataframe tbody tr th {\n",
       "        vertical-align: top;\n",
       "    }\n",
       "\n",
       "    .dataframe thead th {\n",
       "        text-align: right;\n",
       "    }\n",
       "</style>\n",
       "<table border=\"1\" class=\"dataframe\">\n",
       "  <thead>\n",
       "    <tr style=\"text-align: right;\">\n",
       "      <th></th>\n",
       "      <th>B_SERVMILITAR</th>\n",
       "      <th>CX_EDOCIVIL</th>\n",
       "      <th>F_ALTA</th>\n",
       "      <th>F_BAJA</th>\n",
       "      <th>F_NACIMIENTO</th>\n",
       "      <th>ID_EMPLEADO</th>\n",
       "      <th>N_TELEFONO1</th>\n",
       "      <th>N_TELEFONO2</th>\n",
       "      <th>TX_APELLIDO1</th>\n",
       "      <th>TX_APELLIDO2</th>\n",
       "      <th>TX_EMAIL</th>\n",
       "      <th>TX_NIF</th>\n",
       "      <th>TX_NOMBRE</th>\n",
       "    </tr>\n",
       "  </thead>\n",
       "  <tbody>\n",
       "    <tr>\n",
       "      <th>0</th>\n",
       "      <td>N</td>\n",
       "      <td>C</td>\n",
       "      <td>1976-10-13</td>\n",
       "      <td>2008-11-15</td>\n",
       "      <td>1986-02-18</td>\n",
       "      <td>1</td>\n",
       "      <td>726303432</td>\n",
       "      <td>260219970</td>\n",
       "      <td>White</td>\n",
       "      <td>Phillips</td>\n",
       "      <td>alfred.white@gmail.com</td>\n",
       "      <td>88953399G</td>\n",
       "      <td>Alfred</td>\n",
       "    </tr>\n",
       "    <tr>\n",
       "      <th>1</th>\n",
       "      <td>N</td>\n",
       "      <td>C</td>\n",
       "      <td>1993-07-18</td>\n",
       "      <td>None</td>\n",
       "      <td>1993-03-25</td>\n",
       "      <td>2</td>\n",
       "      <td>218370049</td>\n",
       "      <td>434866459</td>\n",
       "      <td>Hamilton</td>\n",
       "      <td>Welch</td>\n",
       "      <td>leila.hamilton@gmail.com</td>\n",
       "      <td>42401933C</td>\n",
       "      <td>Leila</td>\n",
       "    </tr>\n",
       "    <tr>\n",
       "      <th>2</th>\n",
       "      <td>N</td>\n",
       "      <td>S</td>\n",
       "      <td>1996-08-18</td>\n",
       "      <td>2010-01-20</td>\n",
       "      <td>1978-10-23</td>\n",
       "      <td>3</td>\n",
       "      <td>227605855</td>\n",
       "      <td>151699997</td>\n",
       "      <td>Fletcher</td>\n",
       "      <td>Wilson</td>\n",
       "      <td>bertie.fletcher@gmail.com</td>\n",
       "      <td>52971090P</td>\n",
       "      <td>Bertie</td>\n",
       "    </tr>\n",
       "    <tr>\n",
       "      <th>3</th>\n",
       "      <td>S</td>\n",
       "      <td>C</td>\n",
       "      <td>1981-01-09</td>\n",
       "      <td>2000-09-06</td>\n",
       "      <td>1991-10-17</td>\n",
       "      <td>4</td>\n",
       "      <td>103324683</td>\n",
       "      <td>445420824</td>\n",
       "      <td>Adkins</td>\n",
       "      <td>Butler</td>\n",
       "      <td>barry.adkins@gmail.com</td>\n",
       "      <td>41056311G</td>\n",
       "      <td>Barry</td>\n",
       "    </tr>\n",
       "    <tr>\n",
       "      <th>4</th>\n",
       "      <td>N</td>\n",
       "      <td>C</td>\n",
       "      <td>2001-12-20</td>\n",
       "      <td>None</td>\n",
       "      <td>1979-06-16</td>\n",
       "      <td>5</td>\n",
       "      <td>620005126</td>\n",
       "      <td>597053420</td>\n",
       "      <td>Morgan</td>\n",
       "      <td>Bates</td>\n",
       "      <td>emma.morgan@gmail.com</td>\n",
       "      <td>70090020R</td>\n",
       "      <td>Emma</td>\n",
       "    </tr>\n",
       "  </tbody>\n",
       "</table>\n",
       "</div>"
      ],
      "text/plain": [
       "  B_SERVMILITAR CX_EDOCIVIL      F_ALTA      F_BAJA F_NACIMIENTO  ID_EMPLEADO  \\\n",
       "0             N           C  1976-10-13  2008-11-15   1986-02-18            1   \n",
       "1             N           C  1993-07-18        None   1993-03-25            2   \n",
       "2             N           S  1996-08-18  2010-01-20   1978-10-23            3   \n",
       "3             S           C  1981-01-09  2000-09-06   1991-10-17            4   \n",
       "4             N           C  2001-12-20        None   1979-06-16            5   \n",
       "\n",
       "  N_TELEFONO1 N_TELEFONO2 TX_APELLIDO1 TX_APELLIDO2  \\\n",
       "0   726303432   260219970        White     Phillips   \n",
       "1   218370049   434866459     Hamilton        Welch   \n",
       "2   227605855   151699997     Fletcher       Wilson   \n",
       "3   103324683   445420824       Adkins       Butler   \n",
       "4   620005126   597053420       Morgan        Bates   \n",
       "\n",
       "                    TX_EMAIL     TX_NIF TX_NOMBRE  \n",
       "0     alfred.white@gmail.com  88953399G    Alfred  \n",
       "1   leila.hamilton@gmail.com  42401933C     Leila  \n",
       "2  bertie.fletcher@gmail.com  52971090P    Bertie  \n",
       "3     barry.adkins@gmail.com  41056311G     Barry  \n",
       "4      emma.morgan@gmail.com  70090020R      Emma  "
      ]
     },
     "execution_count": 77,
     "metadata": {},
     "output_type": "execute_result"
    }
   ],
   "source": [
    "empleados.head()"
   ]
  },
  {
   "cell_type": "markdown",
   "metadata": {},
   "source": [
    "## Estadísticas"
   ]
  },
  {
   "cell_type": "markdown",
   "metadata": {},
   "source": [
    "#### Empleados\n",
    "- Top 5 empleados que más años llevan en la compañía\n",
    "- Top 5 empleados más recientes\n",
    "- Distribución del número de años de los empleados en la empresa\n",
    "- Evolución temporal de altas por años\n",
    "- Evolución temporal de bajas por años (se puede combinar con la anterior si se desea)\n",
    "- ¿Cuáles han sido los dos años de mayor crecimiento/decrecimiento de empleados?\n",
    "- Distribución de empleados solteros vs casados\n",
    "- Distribución de la edad de los empleados\n",
    "- Edad media y desviación típica de los empleados\n",
    "\n",
    "#### Proyectos\n",
    "- Número de proyectos activos, finalizados y total\n",
    "- Distribución de la duración de los proyectos (histograma)\n",
    "- Distribución de proyectos por lugar\n",
    "\n",
    "#### Proyectos y Empleados\n",
    "- Distribución del número de proyectos a los que están asignados los empleados en activo. \n",
    "- Ejemplo: \n",
    "\t- Personas asignadas a 1 proyecto: 54, \n",
    "\t- Personas asignadas a 2 proyectos: 12,\n",
    "\t- Personas asignadas a 3 proyectos: 2\n",
    "- Top 5 proyectos con más personas asignadas\n",
    "- Lista de proyectos sin personas asignadas (detección de anomalía)  \n"
   ]
  },
  {
   "cell_type": "markdown",
   "metadata": {},
   "source": [
    "### Empleados"
   ]
  },
  {
   "cell_type": "markdown",
   "metadata": {},
   "source": [
    "#### Top 5 empleados que más años llevan en la compañía"
   ]
  },
  {
   "cell_type": "code",
   "execution_count": 78,
   "metadata": {},
   "outputs": [
    {
     "data": {
      "text/html": [
       "<div>\n",
       "<style scoped>\n",
       "    .dataframe tbody tr th:only-of-type {\n",
       "        vertical-align: middle;\n",
       "    }\n",
       "\n",
       "    .dataframe tbody tr th {\n",
       "        vertical-align: top;\n",
       "    }\n",
       "\n",
       "    .dataframe thead th {\n",
       "        text-align: right;\n",
       "    }\n",
       "</style>\n",
       "<table border=\"1\" class=\"dataframe\">\n",
       "  <thead>\n",
       "    <tr style=\"text-align: right;\">\n",
       "      <th></th>\n",
       "      <th>TX_NIF</th>\n",
       "      <th>TX_NOMBRE</th>\n",
       "      <th>TX_APELLIDO1</th>\n",
       "      <th>TX_APELLIDO2</th>\n",
       "      <th>TX_EMAIL</th>\n",
       "      <th>F_ALTA</th>\n",
       "    </tr>\n",
       "  </thead>\n",
       "  <tbody>\n",
       "    <tr>\n",
       "      <th>5</th>\n",
       "      <td>39581105Y</td>\n",
       "      <td>Johanna</td>\n",
       "      <td>Soto</td>\n",
       "      <td>Gonzales</td>\n",
       "      <td>johanna.soto@gmail.com</td>\n",
       "      <td>1988-10-10</td>\n",
       "    </tr>\n",
       "    <tr>\n",
       "      <th>44</th>\n",
       "      <td>28370947P</td>\n",
       "      <td>Roy</td>\n",
       "      <td>Guzman</td>\n",
       "      <td>Franklin</td>\n",
       "      <td>roy.guzman@gmail.com</td>\n",
       "      <td>1990-04-24</td>\n",
       "    </tr>\n",
       "    <tr>\n",
       "      <th>67</th>\n",
       "      <td>44704219U</td>\n",
       "      <td>Eula</td>\n",
       "      <td>Wilkerson</td>\n",
       "      <td>Lowe</td>\n",
       "      <td>eula.wilkerson@gmail.com</td>\n",
       "      <td>1991-01-04</td>\n",
       "    </tr>\n",
       "    <tr>\n",
       "      <th>11</th>\n",
       "      <td>67412007O</td>\n",
       "      <td>Cory</td>\n",
       "      <td>Leonard</td>\n",
       "      <td>Simon</td>\n",
       "      <td>cory.leonard@gmail.com</td>\n",
       "      <td>1991-09-22</td>\n",
       "    </tr>\n",
       "    <tr>\n",
       "      <th>66</th>\n",
       "      <td>47299129S</td>\n",
       "      <td>Glenn</td>\n",
       "      <td>Copeland</td>\n",
       "      <td>Santos</td>\n",
       "      <td>glenn.copeland@gmail.com</td>\n",
       "      <td>1991-12-16</td>\n",
       "    </tr>\n",
       "  </tbody>\n",
       "</table>\n",
       "</div>"
      ],
      "text/plain": [
       "       TX_NIF TX_NOMBRE TX_APELLIDO1 TX_APELLIDO2                  TX_EMAIL  \\\n",
       "5   39581105Y   Johanna         Soto     Gonzales    johanna.soto@gmail.com   \n",
       "44  28370947P       Roy       Guzman     Franklin      roy.guzman@gmail.com   \n",
       "67  44704219U      Eula    Wilkerson         Lowe  eula.wilkerson@gmail.com   \n",
       "11  67412007O      Cory      Leonard        Simon    cory.leonard@gmail.com   \n",
       "66  47299129S     Glenn     Copeland       Santos  glenn.copeland@gmail.com   \n",
       "\n",
       "        F_ALTA  \n",
       "5   1988-10-10  \n",
       "44  1990-04-24  \n",
       "67  1991-01-04  \n",
       "11  1991-09-22  \n",
       "66  1991-12-16  "
      ]
     },
     "execution_count": 78,
     "metadata": {},
     "output_type": "execute_result"
    }
   ],
   "source": [
    "# No dados de baja\n",
    "disponibles = empleados.loc[empleados['F_BAJA'].isna()].copy()\n",
    "# Ordenar por antiguedad\n",
    "ordenados = disponibles.sort_values(['F_ALTA'])[\n",
    "    ['TX_NIF', 'TX_NOMBRE', 'TX_APELLIDO1', 'TX_APELLIDO2', 'TX_EMAIL', 'F_ALTA']]\n",
    "# Limitar a los 5\n",
    "top5MasAnyos = ordenados.head(5)\n",
    "top5MasAnyos"
   ]
  },
  {
   "cell_type": "markdown",
   "metadata": {},
   "source": [
    "#### Top 5 empleados más recientes"
   ]
  },
  {
   "cell_type": "code",
   "execution_count": 79,
   "metadata": {},
   "outputs": [
    {
     "data": {
      "text/html": [
       "<div>\n",
       "<style scoped>\n",
       "    .dataframe tbody tr th:only-of-type {\n",
       "        vertical-align: middle;\n",
       "    }\n",
       "\n",
       "    .dataframe tbody tr th {\n",
       "        vertical-align: top;\n",
       "    }\n",
       "\n",
       "    .dataframe thead th {\n",
       "        text-align: right;\n",
       "    }\n",
       "</style>\n",
       "<table border=\"1\" class=\"dataframe\">\n",
       "  <thead>\n",
       "    <tr style=\"text-align: right;\">\n",
       "      <th></th>\n",
       "      <th>TX_NIF</th>\n",
       "      <th>TX_NOMBRE</th>\n",
       "      <th>TX_APELLIDO1</th>\n",
       "      <th>TX_APELLIDO2</th>\n",
       "      <th>TX_EMAIL</th>\n",
       "      <th>F_ALTA</th>\n",
       "    </tr>\n",
       "  </thead>\n",
       "  <tbody>\n",
       "    <tr>\n",
       "      <th>38</th>\n",
       "      <td>13701029X</td>\n",
       "      <td>Harvey</td>\n",
       "      <td>Nichols</td>\n",
       "      <td>Thornton</td>\n",
       "      <td>harvey.nichols@gmail.com</td>\n",
       "      <td>2019-05-15</td>\n",
       "    </tr>\n",
       "    <tr>\n",
       "      <th>54</th>\n",
       "      <td>79260073L</td>\n",
       "      <td>Jimmy</td>\n",
       "      <td>Wong</td>\n",
       "      <td>Schneider</td>\n",
       "      <td>jimmy.wong@gmail.com</td>\n",
       "      <td>2015-10-01</td>\n",
       "    </tr>\n",
       "    <tr>\n",
       "      <th>46</th>\n",
       "      <td>87541974K</td>\n",
       "      <td>Devin</td>\n",
       "      <td>Bailey</td>\n",
       "      <td>Hunt</td>\n",
       "      <td>devin.bailey@gmail.com</td>\n",
       "      <td>2014-08-09</td>\n",
       "    </tr>\n",
       "    <tr>\n",
       "      <th>25</th>\n",
       "      <td>48825826D</td>\n",
       "      <td>Clara</td>\n",
       "      <td>Santos</td>\n",
       "      <td>Davidson</td>\n",
       "      <td>clara.santos@gmail.com</td>\n",
       "      <td>2014-05-26</td>\n",
       "    </tr>\n",
       "    <tr>\n",
       "      <th>70</th>\n",
       "      <td>83007275T</td>\n",
       "      <td>Isabelle</td>\n",
       "      <td>Allen</td>\n",
       "      <td>Cruz</td>\n",
       "      <td>isabelle.allen@gmail.com</td>\n",
       "      <td>2013-07-22</td>\n",
       "    </tr>\n",
       "  </tbody>\n",
       "</table>\n",
       "</div>"
      ],
      "text/plain": [
       "       TX_NIF TX_NOMBRE TX_APELLIDO1 TX_APELLIDO2                  TX_EMAIL  \\\n",
       "38  13701029X    Harvey      Nichols     Thornton  harvey.nichols@gmail.com   \n",
       "54  79260073L     Jimmy         Wong    Schneider      jimmy.wong@gmail.com   \n",
       "46  87541974K     Devin       Bailey         Hunt    devin.bailey@gmail.com   \n",
       "25  48825826D     Clara       Santos     Davidson    clara.santos@gmail.com   \n",
       "70  83007275T  Isabelle        Allen         Cruz  isabelle.allen@gmail.com   \n",
       "\n",
       "        F_ALTA  \n",
       "38  2019-05-15  \n",
       "54  2015-10-01  \n",
       "46  2014-08-09  \n",
       "25  2014-05-26  \n",
       "70  2013-07-22  "
      ]
     },
     "execution_count": 79,
     "metadata": {},
     "output_type": "execute_result"
    }
   ],
   "source": [
    "# No dados de baja\n",
    "disponibles = empleados.loc[empleados['F_BAJA'].isna()].copy()\n",
    "# Ordenar por antiguedad\n",
    "ordenados = disponibles.sort_values(['F_ALTA'], ascending=False)[\n",
    "    ['TX_NIF', 'TX_NOMBRE', 'TX_APELLIDO1', 'TX_APELLIDO2', 'TX_EMAIL', 'F_ALTA']]\n",
    "# Limitar a los 5\n",
    "top5MasRecientes = ordenados.head(5)\n",
    "top5MasRecientes"
   ]
  },
  {
   "cell_type": "markdown",
   "metadata": {},
   "source": [
    "#### Distribución del número de años de los empleados en la empresa"
   ]
  },
  {
   "cell_type": "code",
   "execution_count": 80,
   "metadata": {},
   "outputs": [
    {
     "data": {
      "image/png": "[encoded data removed]",
      "text/plain": [
       "<Figure size 640x480 with 1 Axes>"
      ]
     },
     "metadata": {},
     "output_type": "display_data"
    }
   ],
   "source": [
    "# No dados de baja\n",
    "disponibles = empleados.loc[empleados['F_BAJA'].isna()].copy()\n",
    "# Numero de años\n",
    "anyosAlta = disponibles['F_ALTA'].astype('str').str.split('-').str[0].astype('int')\n",
    "nAnyos = 2023 - anyosAlta\n",
    "\n",
    "nAnyos.plot.hist(bins=nAnyos.max() - nAnyos.min() + 1)\n",
    "plt.show()"
   ]
  },
  {
   "cell_type": "markdown",
   "metadata": {},
   "source": [
    "#### Evolución temporal de altas por años y Evolución temporal de bajas por años"
   ]
  },
  {
   "cell_type": "code",
   "execution_count": 81,
   "metadata": {},
   "outputs": [
    {
     "name": "stderr",
     "output_type": "stream",
     "text": [
      "No artists with labels found to put in legend.  Note that artists whose label start with an underscore are ignored when legend() is called with no argument.\n"
     ]
    },
    {
     "data": {
      "image/png": "[encoded data removed]",
      "text/plain": [
       "<Figure size 640x480 with 2 Axes>"
      ]
     },
     "metadata": {},
     "output_type": "display_data"
    }
   ],
   "source": [
    "# Dados de baja\n",
    "deBaja = empleados.loc[empleados['F_BAJA'].notna()].copy()\n",
    "anyosBaja = deBaja['F_BAJA'].astype('str').str.split('-').str[0].astype('int')\n",
    "\n",
    "fig, axes = plt.subplots(nrows=2, ncols=1)\n",
    "minim = min(anyosAlta.min(), anyosBaja.min())\n",
    "maxim = max(anyosAlta.max(), anyosBaja.max())\n",
    "anyosAlta.plot.hist(ax=axes[0], bins= maxim - minim + 1, title='Altas')\n",
    "anyosBaja.plot.hist(ax=axes[1], bins= maxim - minim + 1, title='Bajas')\n",
    "plt.show()"
   ]
  },
  {
   "cell_type": "markdown",
   "metadata": {},
   "source": [
    "\n",
    "#### ¿Cuáles han sido los dos años de mayor crecimiento/decrecimiento de empleados?"
   ]
  },
  {
   "cell_type": "code",
   "execution_count": 82,
   "metadata": {},
   "outputs": [
    {
     "name": "stdout",
     "output_type": "stream",
     "text": [
      "Mayor crecimiento:  1999 con 3 altas, 1994 con 3 altas\n",
      "Mayor decrecimiento:  1991 con 4 bajas, 1999 con 3 bajas\n"
     ]
    }
   ],
   "source": [
    "anyosCrecimiento = anyosAlta.value_counts().sort_values(ascending=False).head(2).reset_index()\n",
    "anyosDecrecimiento = anyosBaja.value_counts().sort_values(ascending=False).head(2).reset_index()\n",
    "\n",
    "print(\n",
    "    'Mayor crecimiento: ',\n",
    "    ', '.join([\n",
    "        f'{y} con {n} altas'\n",
    "        for y, n in zip(anyosCrecimiento['F_ALTA'], anyosCrecimiento['count'])]))\n",
    "\n",
    "print(\n",
    "    'Mayor decrecimiento: ',\n",
    "    ', '.join([\n",
    "        f'{y} con {n} bajas'\n",
    "        for y, n in zip(anyosDecrecimiento['F_BAJA'], anyosDecrecimiento['count'])]))\n"
   ]
  },
  {
   "cell_type": "markdown",
   "metadata": {},
   "source": [
    "\n",
    "#### Distribución de empleados solteros vs casados"
   ]
  },
  {
   "cell_type": "code",
   "execution_count": 83,
   "metadata": {},
   "outputs": [
    {
     "data": {
      "image/png": "[encoded data removed]",
      "text/plain": [
       "<Figure size 640x480 with 1 Axes>"
      ]
     },
     "metadata": {},
     "output_type": "display_data"
    }
   ],
   "source": [
    "ecivil = empleados['CX_EDOCIVIL'].value_counts()\n",
    "ecivil = ecivil\n",
    "ecivil.plot.pie(\n",
    "    label='Frecuencia entre todos',\n",
    "    labels = ['Solteros', 'Casados'],\n",
    "    autopct=lambda x: f'{round(x * len(empleados) / 100)} ({round(x, 2)}%)')\n",
    "plt.show()"
   ]
  },
  {
   "cell_type": "code",
   "execution_count": 84,
   "metadata": {},
   "outputs": [
    {
     "data": {
      "image/png": "[encoded data removed]",
      "text/plain": [
       "<Figure size 640x480 with 1 Axes>"
      ]
     },
     "metadata": {},
     "output_type": "display_data"
    }
   ],
   "source": [
    "ecivil = disponibles['CX_EDOCIVIL'].value_counts()\n",
    "ecivil = ecivil\n",
    "ecivil.plot.pie(\n",
    "    label='Frecuencia entre los no dados de baja',\n",
    "    labels = ['Solteros', 'Casados'],\n",
    "    autopct=lambda x: f'{round(x * len(disponibles) / 100)} ({round(x, 2)}%)')\n",
    "plt.show()"
   ]
  },
  {
   "cell_type": "markdown",
   "metadata": {},
   "source": [
    "\n",
    "#### Distribución de la edad de los empleados"
   ]
  },
  {
   "cell_type": "code",
   "execution_count": 85,
   "metadata": {},
   "outputs": [
    {
     "data": {
      "text/plain": [
       "<Axes: ylabel='Frequency'>"
      ]
     },
     "execution_count": 85,
     "metadata": {},
     "output_type": "execute_result"
    },
    {
     "data": {
      "image/png": "[encoded data removed]",
      "text/plain": [
       "<Figure size 640x480 with 1 Axes>"
      ]
     },
     "metadata": {},
     "output_type": "display_data"
    }
   ],
   "source": [
    "# No dados de baja\n",
    "disponibles = empleados.loc[empleados['F_BAJA'].isna()].copy()\n",
    "# Edad de años\n",
    "year = datetime.now().year\n",
    "edadEmpleados = year - disponibles['F_NACIMIENTO'].astype('str').str.split('-').str[0].astype('int')\n",
    "\n",
    "edadEmpleados.plot.hist(bins=edadEmpleados.max() - edadEmpleados.min() + 1)"
   ]
  },
  {
   "cell_type": "markdown",
   "metadata": {},
   "source": [
    "\n",
    "#### Edad media y desviación típica de los empleados"
   ]
  },
  {
   "cell_type": "code",
   "execution_count": 86,
   "metadata": {},
   "outputs": [
    {
     "name": "stdout",
     "output_type": "stream",
     "text": [
      "La edad media es 33.0 años y la desviación típica 9.36\n",
      "Por lo que el ~68% de las edades están entre 23.6 y 42.4\n"
     ]
    }
   ],
   "source": [
    "media, std = edadEmpleados.mean(), edadEmpleados.std()\n",
    "\n",
    "print('La edad media es', round(media, 1), 'años y la desviación típica', round(std, 2))\n",
    "print('Por lo que el ~68% de las edades están entre', round(media - std, 1), 'y', round(media + std, 1))"
   ]
  },
  {
   "cell_type": "markdown",
   "metadata": {},
   "source": [
    "### Proyectos"
   ]
  },
  {
   "cell_type": "markdown",
   "metadata": {},
   "source": [
    "\n",
    "#### Número de proyectos activos, finalizados y total"
   ]
  },
  {
   "cell_type": "code",
   "execution_count": 87,
   "metadata": {},
   "outputs": [],
   "source": [
    "now = datetime.today().isoformat()[:10]\n",
    "\n",
    "activos = proyectos.loc[proyectos['F_BAJA'].isna()]\n",
    "activos = activos.loc[activos['F_FIN'].astype('str') <= now]\n",
    "nactivos = len(activos)\n",
    "\n",
    "finalizados = proyectos.loc[proyectos['F_BAJA'].isna()]\n",
    "finalizados = finalizados.loc[finalizados['F_FIN'].astype('str') > now]\n",
    "nfinalizados = len(finalizados)\n",
    "\n",
    "nbaja = len(proyectos.loc[proyectos['F_BAJA'].notna()])\n",
    "\n",
    "totalSinBajas = nfinalizados + nactivos\n",
    "\n",
    "totalConBajas = totalSinBajas + nbaja\n"
   ]
  },
  {
   "cell_type": "code",
   "execution_count": 88,
   "metadata": {},
   "outputs": [
    {
     "data": {
      "image/png": "[encoded data removed]",
      "text/plain": [
       "<Figure size 640x480 with 2 Axes>"
      ]
     },
     "metadata": {},
     "output_type": "display_data"
    }
   ],
   "source": [
    "\n",
    "_, (left, right) = plt.subplots(1, 2, layout='constrained')\n",
    "\n",
    "left.set(title='Proyectos sin bajas', aspect=1)\n",
    "right.set(title='Proyectos incluyendo bajas', aspect=1)\n",
    "\n",
    "\n",
    "x = (nactivos, nfinalizados)\n",
    "left.pie(\n",
    "    x, labels=('Activos', 'Finalizados'),\n",
    "    autopct=lambda n: f'{round(n * totalSinBajas / 100)} ({round(n, 2)}%)')\n",
    "\n",
    "x = (nactivos, nfinalizados, nbaja)\n",
    "right.pie(\n",
    "    x, labels=('Activos', 'Finalizados', 'Baja'),\n",
    "    autopct=lambda n: f'{round(n * totalConBajas / 100)} ({round(n, 2)}%)')\n",
    "\n",
    "plt.show()"
   ]
  },
  {
   "cell_type": "code",
   "execution_count": 89,
   "metadata": {},
   "outputs": [
    {
     "name": "stdout",
     "output_type": "stream",
     "text": [
      "Proyectos:\n",
      "- 26 Activos\n",
      "- 10 Finalizados\n",
      "- 36 Total\n",
      "- 48 Total (con bajas)\n"
     ]
    }
   ],
   "source": [
    "print(\n",
    "    'Proyectos:\\n- {} Activos\\n- {} Finalizados\\n- {} Total\\n- {} Total (con bajas)'.format(\n",
    "        nactivos, nfinalizados, totalSinBajas, totalConBajas))"
   ]
  },
  {
   "cell_type": "markdown",
   "metadata": {},
   "source": [
    "\n",
    "#### Distribución de la duración de los proyectos (histograma)"
   ]
  },
  {
   "cell_type": "code",
   "execution_count": 90,
   "metadata": {},
   "outputs": [],
   "source": [
    "proyectos['F_INICIO'] = pd.to_datetime(proyectos['F_INICIO'], format='%y-%m-%d')\n",
    "proyectos['F_FIN'] = pd.to_datetime(proyectos['F_FIN'], format='%y-%m-%d')"
   ]
  },
  {
   "cell_type": "code",
   "execution_count": 91,
   "metadata": {},
   "outputs": [
    {
     "data": {
      "image/png": "[encoded data removed]",
      "text/plain": [
       "<Figure size 640x480 with 1 Axes>"
      ]
     },
     "metadata": {},
     "output_type": "display_data"
    }
   ],
   "source": [
    "def form(delta, _):\n",
    "    y = int(delta // 365)\n",
    "    return f'{y}'\n",
    "\n",
    "duraciones = (proyectos['F_FIN'] - proyectos['F_INICIO']).dt.days\n",
    "p = duraciones.plot.hist()\n",
    "p.xaxis.set_major_formatter(form)\n",
    "p.set(title='Duración de proyectos (en años)')\n",
    "plt.show()"
   ]
  },
  {
   "cell_type": "markdown",
   "metadata": {},
   "source": [
    "\n",
    "#### Distribución de proyectos por lugar"
   ]
  },
  {
   "cell_type": "code",
   "execution_count": 92,
   "metadata": {},
   "outputs": [
    {
     "data": {
      "image/png": "[encoded data removed]",
      "text/plain": [
       "<Figure size 640x480 with 1 Axes>"
      ]
     },
     "metadata": {},
     "output_type": "display_data"
    }
   ],
   "source": [
    "lugares = proyectos['TX_LUGAR']\n",
    "frecLugares = lugares.value_counts().reset_index()\n",
    "plt.bar(frecLugares['TX_LUGAR'], frecLugares['count'])\n",
    "plt.show()"
   ]
  },
  {
   "cell_type": "markdown",
   "metadata": {},
   "source": [
    "### Proyectos y empleados"
   ]
  },
  {
   "cell_type": "markdown",
   "metadata": {},
   "source": [
    "#### Distribución del número de proyectos a los que están asignados los empleados en activo. "
   ]
  },
  {
   "cell_type": "code",
   "execution_count": 93,
   "metadata": {},
   "outputs": [
    {
     "name": "stdout",
     "output_type": "stream",
     "text": [
      "- Personas asignadas a 2 proyectos: 1,\n",
      "- Personas asignadas a 3 proyectos: 4,\n",
      "- Personas asignadas a 4 proyectos: 6,\n",
      "- Personas asignadas a 5 proyectos: 14,\n",
      "- Personas asignadas a 6 proyectos: 7\n"
     ]
    }
   ],
   "source": [
    "asignados = asignaciones['ID_EMPLEADO']\n",
    "asignados = asignados.value_counts().reset_index()\n",
    "asignados = asignados.groupby('count').count().reset_index()\n",
    "print(\n",
    "    ',\\n'.join(\n",
    "        f'- Personas asignadas a {c} proyecto{\"s\" if c != 1 else \"\"}: {n}'\n",
    "        for c, n in zip(asignados['count'], asignados['ID_EMPLEADO'])\n",
    "    ))"
   ]
  },
  {
   "cell_type": "markdown",
   "metadata": {},
   "source": [
    "\n",
    "#### Top 5 proyectos con más personas asignadas"
   ]
  },
  {
   "cell_type": "code",
   "execution_count": 94,
   "metadata": {},
   "outputs": [
    {
     "data": {
      "text/html": [
       "<div>\n",
       "<style scoped>\n",
       "    .dataframe tbody tr th:only-of-type {\n",
       "        vertical-align: middle;\n",
       "    }\n",
       "\n",
       "    .dataframe tbody tr th {\n",
       "        vertical-align: top;\n",
       "    }\n",
       "\n",
       "    .dataframe thead th {\n",
       "        text-align: right;\n",
       "    }\n",
       "</style>\n",
       "<table border=\"1\" class=\"dataframe\">\n",
       "  <thead>\n",
       "    <tr style=\"text-align: right;\">\n",
       "      <th></th>\n",
       "      <th>ID_PROYECTO</th>\n",
       "      <th>TX_DESCRIPCION</th>\n",
       "      <th>proportion</th>\n",
       "    </tr>\n",
       "  </thead>\n",
       "  <tbody>\n",
       "    <tr>\n",
       "      <th>0</th>\n",
       "      <td>23</td>\n",
       "      <td>Bare disappear special dust folks realize prac...</td>\n",
       "      <td>8</td>\n",
       "    </tr>\n",
       "    <tr>\n",
       "      <th>1</th>\n",
       "      <td>46</td>\n",
       "      <td>Program common bring who</td>\n",
       "      <td>8</td>\n",
       "    </tr>\n",
       "    <tr>\n",
       "      <th>2</th>\n",
       "      <td>1</td>\n",
       "      <td>Acres research fun track somehow</td>\n",
       "      <td>8</td>\n",
       "    </tr>\n",
       "    <tr>\n",
       "      <th>3</th>\n",
       "      <td>10</td>\n",
       "      <td>Cause member scale receive trail</td>\n",
       "      <td>7</td>\n",
       "    </tr>\n",
       "    <tr>\n",
       "      <th>4</th>\n",
       "      <td>30</td>\n",
       "      <td>Temperature price south stream create</td>\n",
       "      <td>7</td>\n",
       "    </tr>\n",
       "  </tbody>\n",
       "</table>\n",
       "</div>"
      ],
      "text/plain": [
       "   ID_PROYECTO                                     TX_DESCRIPCION  proportion\n",
       "0           23  Bare disappear special dust folks realize prac...           8\n",
       "1           46                           Program common bring who           8\n",
       "2            1                   Acres research fun track somehow           8\n",
       "3           10                   Cause member scale receive trail           7\n",
       "4           30              Temperature price south stream create           7"
      ]
     },
     "execution_count": 94,
     "metadata": {},
     "output_type": "execute_result"
    }
   ],
   "source": [
    "top5 = asignaciones['ID_PROYECTO']\n",
    "top5 = (top5.value_counts(['ID_EMPLEADO']) * len(top5)).astype('int').reset_index()[:5]\n",
    "top5proyectos = top5.join(\n",
    "    proyectos[['ID_PROYECTO', 'TX_DESCRIPCION']],\n",
    "    on='ID_PROYECTO',\n",
    "    rsuffix='_new')[['ID_PROYECTO', 'TX_DESCRIPCION', 'proportion']]\n",
    "\n",
    "top5proyectos"
   ]
  },
  {
   "cell_type": "markdown",
   "metadata": {},
   "source": [
    "\n",
    "#### Lista de proyectos sin personas asignadas (detección de anomalía) "
   ]
  },
  {
   "cell_type": "code",
   "execution_count": 95,
   "metadata": {},
   "outputs": [
    {
     "data": {
      "text/html": [
       "<div>\n",
       "<style scoped>\n",
       "    .dataframe tbody tr th:only-of-type {\n",
       "        vertical-align: middle;\n",
       "    }\n",
       "\n",
       "    .dataframe tbody tr th {\n",
       "        vertical-align: top;\n",
       "    }\n",
       "\n",
       "    .dataframe thead th {\n",
       "        text-align: right;\n",
       "    }\n",
       "</style>\n",
       "<table border=\"1\" class=\"dataframe\">\n",
       "  <thead>\n",
       "    <tr style=\"text-align: right;\">\n",
       "      <th></th>\n",
       "      <th>ID_PROYECTO</th>\n",
       "      <th>TX_DESCRIPCION</th>\n",
       "      <th>TX_OBSERVACIONES</th>\n",
       "      <th>TX_LUGAR</th>\n",
       "      <th>F_INICIO</th>\n",
       "      <th>F_FIN</th>\n",
       "    </tr>\n",
       "  </thead>\n",
       "  <tbody>\n",
       "    <tr>\n",
       "      <th>4</th>\n",
       "      <td>4</td>\n",
       "      <td>Train inch raise are</td>\n",
       "      <td>Invented properly weak cookies needed hung bre...</td>\n",
       "      <td>Zaragoza</td>\n",
       "      <td>2026-11-03</td>\n",
       "      <td>2031-01-11</td>\n",
       "    </tr>\n",
       "    <tr>\n",
       "      <th>9</th>\n",
       "      <td>9</td>\n",
       "      <td>Knife nodded make terrible wait</td>\n",
       "      <td>Themselves answer today move wind local respec...</td>\n",
       "      <td>Málaga</td>\n",
       "      <td>2028-10-13</td>\n",
       "      <td>2036-12-01</td>\n",
       "    </tr>\n",
       "    <tr>\n",
       "      <th>14</th>\n",
       "      <td>14</td>\n",
       "      <td>Animal cross wish forest give deal</td>\n",
       "      <td>Since period getting youth making quickly vast...</td>\n",
       "      <td>Málaga</td>\n",
       "      <td>2027-10-04</td>\n",
       "      <td>2035-01-10</td>\n",
       "    </tr>\n",
       "    <tr>\n",
       "      <th>18</th>\n",
       "      <td>18</td>\n",
       "      <td>Swing whether grew classroom share member</td>\n",
       "      <td>Us accurate beautiful happy mad beat pain stat...</td>\n",
       "      <td>Zaragoza</td>\n",
       "      <td>2028-05-07</td>\n",
       "      <td>2029-03-09</td>\n",
       "    </tr>\n",
       "  </tbody>\n",
       "</table>\n",
       "</div>"
      ],
      "text/plain": [
       "    ID_PROYECTO                             TX_DESCRIPCION  \\\n",
       "4             4                       Train inch raise are   \n",
       "9             9            Knife nodded make terrible wait   \n",
       "14           14         Animal cross wish forest give deal   \n",
       "18           18  Swing whether grew classroom share member   \n",
       "\n",
       "                                     TX_OBSERVACIONES  TX_LUGAR   F_INICIO  \\\n",
       "4   Invented properly weak cookies needed hung bre...  Zaragoza 2026-11-03   \n",
       "9   Themselves answer today move wind local respec...    Málaga 2028-10-13   \n",
       "14  Since period getting youth making quickly vast...    Málaga 2027-10-04   \n",
       "18  Us accurate beautiful happy mad beat pain stat...  Zaragoza 2028-05-07   \n",
       "\n",
       "        F_FIN  \n",
       "4  2031-01-11  \n",
       "9  2036-12-01  \n",
       "14 2035-01-10  \n",
       "18 2029-03-09  "
      ]
     },
     "execution_count": 95,
     "metadata": {},
     "output_type": "execute_result"
    }
   ],
   "source": [
    "proyectosAsignados = asignaciones['ID_PROYECTO'].unique()\n",
    "noasignados = ~proyectos['ID_PROYECTO'].isin(proyectosAsignados)\n",
    "\n",
    "pnoasig = proyectos.loc[noasignados]\n",
    "pnoasig.loc[pnoasig['F_BAJA'].isna()][['ID_PROYECTO', 'TX_DESCRIPCION', 'TX_OBSERVACIONES', 'TX_LUGAR', 'F_INICIO', 'F_FIN']]"
   ]
  }
 ],
 "metadata": {
  "kernelspec": {
   "display_name": "Python 3",
   "language": "python",
   "name": "python3"
  },
  "language_info": {
   "codemirror_mode": {
    "name": "ipython",
    "version": 3
   },
   "file_extension": ".py",
   "mimetype": "text/x-python",
   "name": "python",
   "nbconvert_exporter": "python",
   "pygments_lexer": "ipython3",
   "version": "3.8.0"
  }
 },
 "nbformat": 4,
 "nbformat_minor": 2
}
